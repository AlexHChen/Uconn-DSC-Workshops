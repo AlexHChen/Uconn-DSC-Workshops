{
 "cells": [
  {
   "cell_type": "markdown",
   "id": "b1d125f5-77c1-4a2b-bb68-564e7cdb9b8f",
   "metadata": {},
   "source": [
    "## What is NumPy?\n",
    "\n",
    "Straight from the NumPy Documentation home page\n",
    "\n",
    "> NumPy is the fundamental package for scientific computing in Python. It is a Python library that provides a multidimensional array object, various derived objects (such as masked arrays and matrices), and an assortment of routines for fast operations on arrays, including mathematical, logical, shape manipulation, sorting, selecting, I/O, discrete Fourier transforms, basic linear algebra, basic statistical operations, random simulation and much more.\n",
    "\n",
    "> At the core of the NumPy package, is the ndarray object. This encapsulates n-dimensional arrays of homogeneous data types, with many operations being performed in compiled code for performance. There are several important differences between NumPy arrays and the standard Python sequences:\n",
    "\n",
    "> NumPy arrays facilitate advanced mathematical and other types of operations on large numbers of data. Typically, such operations are executed more efficiently and with less code than is possible using Python’s built-in sequences.\n",
    "\n",
    "> A growing plethora of scientific and mathematical Python-based packages are using NumPy arrays; though these typically support Python-sequence input, they **convert such input to NumPy arrays** prior to processing, and they often output NumPy arrays. In other words, in order to efficiently use much (perhaps even most) of today’s scientific/mathematical Python-based software, just knowing how to use Python’s built-in sequence types is insufficient - one also needs to know how to use NumPy arrays."
   ]
  },
  {
   "cell_type": "markdown",
   "id": "2af85efe-0682-46c0-8634-3d45d75e2145",
   "metadata": {},
   "source": [
    "## Why use NumPy?\n",
    "\n",
    "1. Speed\n",
    "2. Memory\n",
    "\n",
    "In General it is a powerful way to facilitate advanced mathematical and other types of operations on large numbers of data"
   ]
  },
  {
   "cell_type": "code",
   "execution_count": 60,
   "id": "3d529d30-ba0e-458e-8b10-391bee011b37",
   "metadata": {},
   "outputs": [
    {
     "name": "stdout",
     "output_type": "stream",
     "text": [
      "Size of items in Python in-build list: 432\n",
      "Size of items in NumPy array: 72\n"
     ]
    }
   ],
   "source": [
    "# It takes much less memory to hold the same amount of data in NumPy\n",
    "\n",
    "from pympler.asizeof import asizeof\n",
    "import numpy as np\n",
    "\n",
    "sample = [1,2,3,4,5,6,7,8,10]\n",
    "print('Size of items in Python in-build list:', asizeof(sample))\n",
    "\n",
    "sample_array = np.array(sample)\n",
    "print('Size of items in NumPy array:', sample_array.nbytes)"
   ]
  },
  {
   "cell_type": "code",
   "execution_count": 64,
   "id": "8728ea47-e63f-4290-8021-3a61e66bff96",
   "metadata": {},
   "outputs": [
    {
     "name": "stdout",
     "output_type": "stream",
     "text": [
      "Result of the Naive Method of Matrix Multiplication\n",
      "[114, 160, 60, 27]\n",
      "[74, 97, 73, 14]\n",
      "[119, 157, 112, 23]\n",
      "Computation time: 0.0002110004425048828 seconds\n",
      "\n",
      "Result of the NumPy Matrix Multiplication\n",
      "[[114 160  60  27]\n",
      " [ 74  97  73  14]\n",
      " [119 157 112  23]]\n",
      "Computation time: 9.131431579589844e-05 seconds\n",
      "\n"
     ]
    }
   ],
   "source": [
    "# NumPy is faster than regular Python operations\n",
    "import time\n",
    "\n",
    "# Defining the matrices\n",
    "A = [\n",
    "        [12,  7,  3],\n",
    "        [ 4,  5,  6],\n",
    "        [ 7,  8,  9]\n",
    "    ]\n",
    "  \n",
    "B = [\n",
    "        [5, 8, 1, 2],\n",
    "        [6, 7, 3, 0],\n",
    "        [4, 5, 9, 1]\n",
    "    ]\n",
    "    \n",
    "# This result needs to be defined for the naive methods of matrix multiplication\n",
    "result = [\n",
    "        [0, 0, 0, 0],\n",
    "        [0, 0, 0, 0],\n",
    "        [0, 0, 0, 0]\n",
    "        ]\n",
    "\n",
    "# Naive Method of Matrix Multiplication\n",
    "start = time.time()\n",
    "\n",
    "for i in range(len(A)):\n",
    "    for j in range(len(B[0])):\n",
    "        for k in range(len(B)):\n",
    "            result[i][j] += A[i][k] * B[k][j]\n",
    "\n",
    "end = time.time()\n",
    "\n",
    "print('Result of the Naive Method of Matrix Multiplication')\n",
    "for r in result:\n",
    "    print(r)\n",
    "print(\"Computation time:\", end-start, 'seconds\\n')\n",
    "\n",
    "# Numpy Matrix Multiplication\n",
    "\n",
    "start = time.time()\n",
    "\n",
    "result = np.matmul(A,B)\n",
    "\n",
    "end = time.time()\n",
    "\n",
    "print('Result of the NumPy Matrix Multiplication')\n",
    "print(result)\n",
    "print(\"Computation time:\", end-start, 'seconds\\n')\n"
   ]
  },
  {
   "cell_type": "code",
   "execution_count": 66,
   "id": "e7ccbaa4-9b34-46a1-aae9-44bd71eb3869",
   "metadata": {},
   "outputs": [],
   "source": [
    "# A more pronounced example of showing the difference in speed\n",
    "# Ignore what I'm doing below. Just know I'm making a bigger matrix\n",
    "A = np.array(np.arange(1000)).reshape((10,10,10))\n",
    "B = np.array(np.arange(1000)).reshape((10,10,10))\n",
    "result = np.zeros((10,10,10))"
   ]
  },
  {
   "cell_type": "code",
   "execution_count": 67,
   "id": "38578bc8-90bf-475b-b2be-a27ebc94601a",
   "metadata": {},
   "outputs": [
    {
     "data": {
      "text/plain": [
       "array([[[  0,   1,   2,   3,   4,   5,   6,   7,   8,   9],\n",
       "        [ 10,  11,  12,  13,  14,  15,  16,  17,  18,  19],\n",
       "        [ 20,  21,  22,  23,  24,  25,  26,  27,  28,  29],\n",
       "        [ 30,  31,  32,  33,  34,  35,  36,  37,  38,  39],\n",
       "        [ 40,  41,  42,  43,  44,  45,  46,  47,  48,  49],\n",
       "        [ 50,  51,  52,  53,  54,  55,  56,  57,  58,  59],\n",
       "        [ 60,  61,  62,  63,  64,  65,  66,  67,  68,  69],\n",
       "        [ 70,  71,  72,  73,  74,  75,  76,  77,  78,  79],\n",
       "        [ 80,  81,  82,  83,  84,  85,  86,  87,  88,  89],\n",
       "        [ 90,  91,  92,  93,  94,  95,  96,  97,  98,  99]],\n",
       "\n",
       "       [[100, 101, 102, 103, 104, 105, 106, 107, 108, 109],\n",
       "        [110, 111, 112, 113, 114, 115, 116, 117, 118, 119],\n",
       "        [120, 121, 122, 123, 124, 125, 126, 127, 128, 129],\n",
       "        [130, 131, 132, 133, 134, 135, 136, 137, 138, 139],\n",
       "        [140, 141, 142, 143, 144, 145, 146, 147, 148, 149],\n",
       "        [150, 151, 152, 153, 154, 155, 156, 157, 158, 159],\n",
       "        [160, 161, 162, 163, 164, 165, 166, 167, 168, 169],\n",
       "        [170, 171, 172, 173, 174, 175, 176, 177, 178, 179],\n",
       "        [180, 181, 182, 183, 184, 185, 186, 187, 188, 189],\n",
       "        [190, 191, 192, 193, 194, 195, 196, 197, 198, 199]],\n",
       "\n",
       "       [[200, 201, 202, 203, 204, 205, 206, 207, 208, 209],\n",
       "        [210, 211, 212, 213, 214, 215, 216, 217, 218, 219],\n",
       "        [220, 221, 222, 223, 224, 225, 226, 227, 228, 229],\n",
       "        [230, 231, 232, 233, 234, 235, 236, 237, 238, 239],\n",
       "        [240, 241, 242, 243, 244, 245, 246, 247, 248, 249],\n",
       "        [250, 251, 252, 253, 254, 255, 256, 257, 258, 259],\n",
       "        [260, 261, 262, 263, 264, 265, 266, 267, 268, 269],\n",
       "        [270, 271, 272, 273, 274, 275, 276, 277, 278, 279],\n",
       "        [280, 281, 282, 283, 284, 285, 286, 287, 288, 289],\n",
       "        [290, 291, 292, 293, 294, 295, 296, 297, 298, 299]],\n",
       "\n",
       "       [[300, 301, 302, 303, 304, 305, 306, 307, 308, 309],\n",
       "        [310, 311, 312, 313, 314, 315, 316, 317, 318, 319],\n",
       "        [320, 321, 322, 323, 324, 325, 326, 327, 328, 329],\n",
       "        [330, 331, 332, 333, 334, 335, 336, 337, 338, 339],\n",
       "        [340, 341, 342, 343, 344, 345, 346, 347, 348, 349],\n",
       "        [350, 351, 352, 353, 354, 355, 356, 357, 358, 359],\n",
       "        [360, 361, 362, 363, 364, 365, 366, 367, 368, 369],\n",
       "        [370, 371, 372, 373, 374, 375, 376, 377, 378, 379],\n",
       "        [380, 381, 382, 383, 384, 385, 386, 387, 388, 389],\n",
       "        [390, 391, 392, 393, 394, 395, 396, 397, 398, 399]],\n",
       "\n",
       "       [[400, 401, 402, 403, 404, 405, 406, 407, 408, 409],\n",
       "        [410, 411, 412, 413, 414, 415, 416, 417, 418, 419],\n",
       "        [420, 421, 422, 423, 424, 425, 426, 427, 428, 429],\n",
       "        [430, 431, 432, 433, 434, 435, 436, 437, 438, 439],\n",
       "        [440, 441, 442, 443, 444, 445, 446, 447, 448, 449],\n",
       "        [450, 451, 452, 453, 454, 455, 456, 457, 458, 459],\n",
       "        [460, 461, 462, 463, 464, 465, 466, 467, 468, 469],\n",
       "        [470, 471, 472, 473, 474, 475, 476, 477, 478, 479],\n",
       "        [480, 481, 482, 483, 484, 485, 486, 487, 488, 489],\n",
       "        [490, 491, 492, 493, 494, 495, 496, 497, 498, 499]],\n",
       "\n",
       "       [[500, 501, 502, 503, 504, 505, 506, 507, 508, 509],\n",
       "        [510, 511, 512, 513, 514, 515, 516, 517, 518, 519],\n",
       "        [520, 521, 522, 523, 524, 525, 526, 527, 528, 529],\n",
       "        [530, 531, 532, 533, 534, 535, 536, 537, 538, 539],\n",
       "        [540, 541, 542, 543, 544, 545, 546, 547, 548, 549],\n",
       "        [550, 551, 552, 553, 554, 555, 556, 557, 558, 559],\n",
       "        [560, 561, 562, 563, 564, 565, 566, 567, 568, 569],\n",
       "        [570, 571, 572, 573, 574, 575, 576, 577, 578, 579],\n",
       "        [580, 581, 582, 583, 584, 585, 586, 587, 588, 589],\n",
       "        [590, 591, 592, 593, 594, 595, 596, 597, 598, 599]],\n",
       "\n",
       "       [[600, 601, 602, 603, 604, 605, 606, 607, 608, 609],\n",
       "        [610, 611, 612, 613, 614, 615, 616, 617, 618, 619],\n",
       "        [620, 621, 622, 623, 624, 625, 626, 627, 628, 629],\n",
       "        [630, 631, 632, 633, 634, 635, 636, 637, 638, 639],\n",
       "        [640, 641, 642, 643, 644, 645, 646, 647, 648, 649],\n",
       "        [650, 651, 652, 653, 654, 655, 656, 657, 658, 659],\n",
       "        [660, 661, 662, 663, 664, 665, 666, 667, 668, 669],\n",
       "        [670, 671, 672, 673, 674, 675, 676, 677, 678, 679],\n",
       "        [680, 681, 682, 683, 684, 685, 686, 687, 688, 689],\n",
       "        [690, 691, 692, 693, 694, 695, 696, 697, 698, 699]],\n",
       "\n",
       "       [[700, 701, 702, 703, 704, 705, 706, 707, 708, 709],\n",
       "        [710, 711, 712, 713, 714, 715, 716, 717, 718, 719],\n",
       "        [720, 721, 722, 723, 724, 725, 726, 727, 728, 729],\n",
       "        [730, 731, 732, 733, 734, 735, 736, 737, 738, 739],\n",
       "        [740, 741, 742, 743, 744, 745, 746, 747, 748, 749],\n",
       "        [750, 751, 752, 753, 754, 755, 756, 757, 758, 759],\n",
       "        [760, 761, 762, 763, 764, 765, 766, 767, 768, 769],\n",
       "        [770, 771, 772, 773, 774, 775, 776, 777, 778, 779],\n",
       "        [780, 781, 782, 783, 784, 785, 786, 787, 788, 789],\n",
       "        [790, 791, 792, 793, 794, 795, 796, 797, 798, 799]],\n",
       "\n",
       "       [[800, 801, 802, 803, 804, 805, 806, 807, 808, 809],\n",
       "        [810, 811, 812, 813, 814, 815, 816, 817, 818, 819],\n",
       "        [820, 821, 822, 823, 824, 825, 826, 827, 828, 829],\n",
       "        [830, 831, 832, 833, 834, 835, 836, 837, 838, 839],\n",
       "        [840, 841, 842, 843, 844, 845, 846, 847, 848, 849],\n",
       "        [850, 851, 852, 853, 854, 855, 856, 857, 858, 859],\n",
       "        [860, 861, 862, 863, 864, 865, 866, 867, 868, 869],\n",
       "        [870, 871, 872, 873, 874, 875, 876, 877, 878, 879],\n",
       "        [880, 881, 882, 883, 884, 885, 886, 887, 888, 889],\n",
       "        [890, 891, 892, 893, 894, 895, 896, 897, 898, 899]],\n",
       "\n",
       "       [[900, 901, 902, 903, 904, 905, 906, 907, 908, 909],\n",
       "        [910, 911, 912, 913, 914, 915, 916, 917, 918, 919],\n",
       "        [920, 921, 922, 923, 924, 925, 926, 927, 928, 929],\n",
       "        [930, 931, 932, 933, 934, 935, 936, 937, 938, 939],\n",
       "        [940, 941, 942, 943, 944, 945, 946, 947, 948, 949],\n",
       "        [950, 951, 952, 953, 954, 955, 956, 957, 958, 959],\n",
       "        [960, 961, 962, 963, 964, 965, 966, 967, 968, 969],\n",
       "        [970, 971, 972, 973, 974, 975, 976, 977, 978, 979],\n",
       "        [980, 981, 982, 983, 984, 985, 986, 987, 988, 989],\n",
       "        [990, 991, 992, 993, 994, 995, 996, 997, 998, 999]]])"
      ]
     },
     "execution_count": 67,
     "metadata": {},
     "output_type": "execute_result"
    }
   ],
   "source": [
    "A"
   ]
  },
  {
   "cell_type": "code",
   "execution_count": 68,
   "id": "4bbc29c7-f88f-4eea-a585-4034c44c7487",
   "metadata": {},
   "outputs": [
    {
     "name": "stdout",
     "output_type": "stream",
     "text": [
      "Computation time for Naive Method of Matrix Multiplication: 0.013128042221069336 seconds\n",
      "\n",
      "Computation time Numpy Matrix Multiplication: 0.00020384788513183594 seconds\n",
      "\n"
     ]
    }
   ],
   "source": [
    "# Naive Method of Matrix Multiplication\n",
    "start = time.time()\n",
    "\n",
    "for i in range(len(A)):\n",
    "    for j in range(len(B[0])):\n",
    "        for k in range(len(B)):\n",
    "            result[i][j] += A[i][k] * B[k][j]\n",
    "\n",
    "end = time.time()\n",
    "print(\"Computation time for Naive Method of Matrix Multiplication:\", end-start, 'seconds\\n')\n",
    "\n",
    "# Numpy Matrix Multiplication\n",
    "\n",
    "start = time.time()\n",
    "\n",
    "result = np.matmul(A,B)\n",
    "\n",
    "end = time.time()\n",
    "\n",
    "print(\"Computation time Numpy Matrix Multiplication:\", end-start, 'seconds\\n')\n"
   ]
  },
  {
   "cell_type": "markdown",
   "id": "46b56142-01b3-43fc-8c80-91a7d2a6624f",
   "metadata": {},
   "source": [
    "# BASICS"
   ]
  },
  {
   "cell_type": "code",
   "execution_count": 69,
   "id": "d9e18006-610b-4131-bae9-5524f3179274",
   "metadata": {},
   "outputs": [
    {
     "name": "stdout",
     "output_type": "stream",
     "text": [
      "[[1, 2, 3], [4, 5, 6], [7, 8, 9]]\n",
      "<class 'numpy.ndarray'>\n"
     ]
    },
    {
     "data": {
      "text/plain": [
       "9"
      ]
     },
     "execution_count": 69,
     "metadata": {},
     "output_type": "execute_result"
    }
   ],
   "source": [
    "# How to make an array?\n",
    "# Note, you can make arrays with strings too\n",
    "sample_data = [\n",
    "                [1,2,3],\n",
    "                [4,5,6],\n",
    "                [7,8,9]\n",
    "                ]\n",
    "sample_array = np.array(sample_data)\n",
    "print(sample_data)\n",
    "print(type(sample_array))\n",
    "\n",
    "# Note, you don't need to convert your data into a NumPy array to use NumPy operations\n",
    "np.max(sample_data)"
   ]
  },
  {
   "cell_type": "code",
   "execution_count": 40,
   "id": "d908c6d0-9813-4b48-a32f-5f812c4e7fd1",
   "metadata": {},
   "outputs": [
    {
     "name": "stdout",
     "output_type": "stream",
     "text": [
      "2\n"
     ]
    }
   ],
   "source": [
    "# Get the dimentions of array\n",
    "print(sample_array.ndim)"
   ]
  },
  {
   "cell_type": "code",
   "execution_count": 41,
   "id": "b2f59535-2d64-458b-b702-4f11a98d7e84",
   "metadata": {},
   "outputs": [
    {
     "name": "stdout",
     "output_type": "stream",
     "text": [
      "(3, 3)\n"
     ]
    }
   ],
   "source": [
    "# Get the shape\n",
    "print(sample_array.shape)"
   ]
  },
  {
   "cell_type": "code",
   "execution_count": 42,
   "id": "76d17935-6aa6-42e5-a497-e3331f5c4df7",
   "metadata": {},
   "outputs": [
    {
     "name": "stdout",
     "output_type": "stream",
     "text": [
      "int64\n"
     ]
    }
   ],
   "source": [
    "# Get type of items in array\n",
    "print(sample_array.dtype)"
   ]
  },
  {
   "cell_type": "code",
   "execution_count": 45,
   "id": "ab7a5f57-6496-469b-808a-7c8caf25eb92",
   "metadata": {},
   "outputs": [
    {
     "name": "stdout",
     "output_type": "stream",
     "text": [
      "int16\n",
      "<U7\n"
     ]
    }
   ],
   "source": [
    "# There are other types\n",
    "print(\n",
    "    np.array(sample_data, dtype=\"int16\").dtype\n",
    ")\n",
    "\n",
    "# Array with unicode type\n",
    "print(\n",
    "    np.array(['string1', 'string2', 'string3',]).dtype\n",
    ")"
   ]
  },
  {
   "cell_type": "code",
   "execution_count": 48,
   "id": "ccba3ad3-f58d-4380-9207-27e3b4a75697",
   "metadata": {},
   "outputs": [
    {
     "name": "stdout",
     "output_type": "stream",
     "text": [
      "<class 'list'>\n"
     ]
    }
   ],
   "source": [
    "# Convert array back to list\n",
    "print(type(sample_array.tolist()))"
   ]
  },
  {
   "cell_type": "markdown",
   "id": "be15ed19-e94f-4c3c-9f38-c9e5bdfaf62e",
   "metadata": {},
   "source": [
    "### Generating your own arrays"
   ]
  },
  {
   "cell_type": "code",
   "execution_count": 73,
   "id": "9d718841-eaea-4422-9292-1022a76c79e4",
   "metadata": {},
   "outputs": [
    {
     "name": "stdout",
     "output_type": "stream",
     "text": [
      "[[0. 0. 0.]\n",
      " [0. 0. 0.]]\n"
     ]
    }
   ],
   "source": [
    "# Making a matrix of all 0s\n",
    "print(np.zeros(shape=(2, 3)))"
   ]
  },
  {
   "cell_type": "code",
   "execution_count": 56,
   "id": "3fd48a06-59c2-4755-8393-210c4a896884",
   "metadata": {},
   "outputs": [
    {
     "name": "stdout",
     "output_type": "stream",
     "text": [
      "[[[1. 1.]\n",
      "  [1. 1.]\n",
      "  [1. 1.]]\n",
      "\n",
      " [[1. 1.]\n",
      "  [1. 1.]\n",
      "  [1. 1.]]\n",
      "\n",
      " [[1. 1.]\n",
      "  [1. 1.]\n",
      "  [1. 1.]]\n",
      "\n",
      " [[1. 1.]\n",
      "  [1. 1.]\n",
      "  [1. 1.]]]\n"
     ]
    }
   ],
   "source": [
    "# Making a matrix of all 1s\n",
    "print(np.ones((4, 3, 2)))"
   ]
  },
  {
   "cell_type": "code",
   "execution_count": 58,
   "id": "52ef09f1-b13d-48aa-95bf-c7c5583389ab",
   "metadata": {},
   "outputs": [
    {
     "name": "stdout",
     "output_type": "stream",
     "text": [
      "[[100000 100000 100000 100000 100000]\n",
      " [100000 100000 100000 100000 100000]\n",
      " [100000 100000 100000 100000 100000]\n",
      " [100000 100000 100000 100000 100000]]\n"
     ]
    }
   ],
   "source": [
    "# Make a matrix full of one number\n",
    "print(np.full((4, 5), 100000))"
   ]
  },
  {
   "cell_type": "code",
   "execution_count": 64,
   "id": "6422225f-d44c-4bfe-9061-dd5c407829b6",
   "metadata": {},
   "outputs": [
    {
     "name": "stdout",
     "output_type": "stream",
     "text": [
      "3\n",
      "19\n",
      "13\n",
      "7\n",
      "[[ 9 14  7  1  2]\n",
      " [ 8  3 17 14 19]\n",
      " [13 11 18  1 14]\n",
      " [ 7 10  7 18  9]\n",
      " [ 8  7  9  1 19]]\n"
     ]
    }
   ],
   "source": [
    "# Make a random integer up to a certain value\n",
    "print(np.random.randint(21))\n",
    "print(np.random.randint(21))\n",
    "print(np.random.randint(21))\n",
    "print(np.random.randint(21))\n",
    "\n",
    "# To make a matrix of random integers add \"size\" argument\n",
    "print(np.random.randint(21, size=(5,5)))"
   ]
  },
  {
   "cell_type": "code",
   "execution_count": 76,
   "id": "600298fb-e9b8-4346-82d7-0f12ec54f23d",
   "metadata": {},
   "outputs": [
    {
     "name": "stdout",
     "output_type": "stream",
     "text": [
      "[[0.07956508 0.41621037]\n",
      " [0.81833024 0.35324577]\n",
      " [0.65548573 0.01950921]\n",
      " [0.99928261 0.89930883]\n",
      " [0.4368083  0.65715491]]\n"
     ]
    }
   ],
   "source": [
    "# Create matrix of decimal numbers\n",
    "print(np.random.rand(5, 2))"
   ]
  },
  {
   "cell_type": "markdown",
   "id": "e63d67f1-f772-482d-b249-3d9a6a9bb36e",
   "metadata": {},
   "source": [
    "### Array Indexing\n",
    "Important notion of axis"
   ]
  },
  {
   "cell_type": "code",
   "execution_count": 72,
   "id": "9d9c93ab-6339-4c6a-95c3-ae70ec845c0f",
   "metadata": {},
   "outputs": [
    {
     "name": "stdout",
     "output_type": "stream",
     "text": [
      "[[1 2 3]\n",
      " [4 5 6]\n",
      " [7 8 9]]\n"
     ]
    }
   ],
   "source": [
    "# In this sample_array, there are 2 dimentions, therefore, 2 axes: axis 0 and axis 1\n",
    "# Axis 0 is the \"rows\"\n",
    "# Axis 1 is the \"columns\"\n",
    "print(sample_array)"
   ]
  },
  {
   "cell_type": "code",
   "execution_count": 78,
   "id": "6ce43bc8-d4b9-4e20-8534-6dcb23d45b20",
   "metadata": {},
   "outputs": [
    {
     "name": "stdout",
     "output_type": "stream",
     "text": [
      "[1 2 3]\n",
      "[4 5 6]\n",
      "[7 8 9]\n"
     ]
    }
   ],
   "source": [
    "# Indexing the \"rows\" - Axis 0\n",
    "print(sample_array[0])\n",
    "print(sample_array[1])\n",
    "print(sample_array[2])"
   ]
  },
  {
   "cell_type": "code",
   "execution_count": 78,
   "id": "aad83896-4e2b-4cd0-9b43-1e6461ff4c93",
   "metadata": {},
   "outputs": [
    {
     "name": "stdout",
     "output_type": "stream",
     "text": [
      "[[1 2 3]\n",
      " [4 5 6]]\n"
     ]
    }
   ],
   "source": [
    "# Index multiple \"rows\" - multiple Axes\n",
    "print(sample_array[0:2])"
   ]
  },
  {
   "cell_type": "code",
   "execution_count": 80,
   "id": "eee592ca-a264-4eca-9e4e-102a96715756",
   "metadata": {},
   "outputs": [
    {
     "name": "stdout",
     "output_type": "stream",
     "text": [
      "[1 4 7]\n",
      "[2 5 8]\n",
      "[3 6 9]\n"
     ]
    }
   ],
   "source": [
    "# Indexing the \"columns\" - Axis 1\n",
    "# In the brackets, the values indexing is [axis 0, axis 1, ...]\n",
    "print(sample_array[:, 0])\n",
    "print(sample_array[:, 1])\n",
    "print(sample_array[:, 2])"
   ]
  },
  {
   "cell_type": "code",
   "execution_count": 83,
   "id": "e2589519-d58c-4f8a-b88b-a254bfb0ed0a",
   "metadata": {},
   "outputs": [
    {
     "name": "stdout",
     "output_type": "stream",
     "text": [
      "[[1 2 3]\n",
      " [4 5 6]\n",
      " [7 8 9]]\n",
      "9\n",
      "4\n"
     ]
    }
   ],
   "source": [
    "# Index specific values\n",
    "print(sample_array)\n",
    "# To get 9\n",
    "print(sample_array[2,2])\n",
    "# To get 4\n",
    "print(sample_array[1,0])"
   ]
  },
  {
   "cell_type": "code",
   "execution_count": 87,
   "id": "e405444b-f546-45f7-a5a7-b7581fc37cd5",
   "metadata": {},
   "outputs": [
    {
     "name": "stdout",
     "output_type": "stream",
     "text": [
      "[1 2 3]\n",
      "[1 3]\n"
     ]
    }
   ],
   "source": [
    "# Hardcore Indexing\n",
    "# [startindex: endindex: stepsize]\n",
    "print(sample_array[0, :])\n",
    "print(sample_array[0, 0:3:2])"
   ]
  },
  {
   "cell_type": "markdown",
   "id": "f2fc5698-d44c-4181-b3b3-792274c6f676",
   "metadata": {},
   "source": [
    "### Change elements in an array"
   ]
  },
  {
   "cell_type": "code",
   "execution_count": 82,
   "id": "7aba5baf-f201-4d38-861d-436d877bd931",
   "metadata": {},
   "outputs": [
    {
     "name": "stdout",
     "output_type": "stream",
     "text": [
      "[[0. 0. 0. 0. 0.]\n",
      " [0. 0. 0. 0. 0.]\n",
      " [0. 0. 0. 0. 0.]\n",
      " [0. 0. 0. 0. 0.]\n",
      " [0. 0. 0. 0. 0.]]\n",
      "\n",
      "Change this section:\n",
      " [[0. 0. 0.]\n",
      " [0. 0. 0.]\n",
      " [0. 0. 0.]] \n",
      "\n",
      "[[0. 0. 0. 0. 0.]\n",
      " [0. 1. 1. 1. 0.]\n",
      " [0. 1. 1. 1. 0.]\n",
      " [0. 1. 1. 1. 0.]\n",
      " [0. 0. 0. 0. 0.]]\n"
     ]
    }
   ],
   "source": [
    "# Change\n",
    "\n",
    "# [[0. 0. 0. 0. 0.]\n",
    "#  [0. 0. 0. 0. 0.]\n",
    "#  [0. 0. 0. 0. 0.]\n",
    "#  [0. 0. 0. 0. 0.]\n",
    "#  [0. 0. 0. 0. 0.]]\n",
    "\n",
    "# to this\n",
    "\n",
    "# [[0. 0. 0. 0. 0.]\n",
    "#  [0. 1. 1. 1. 0.]\n",
    "#  [0. 1. 1. 1. 0.]\n",
    "#  [0. 1. 1. 1. 0.]\n",
    "#  [0. 0. 0. 0. 0.]]\n",
    "\n",
    "zeros_array = np.zeros((5,5)) \n",
    "print(zeros_array)\n",
    "\n",
    "\n",
    "print(\"\\nChange this section:\\n\", zeros_array[1:4,  1:4], '\\n')\n",
    "\n",
    "zeros_array[1:4, 1:4] =  np.ones((3,3)) # putting 1 instead of np.ones also works\n",
    "print(zeros_array)"
   ]
  },
  {
   "cell_type": "markdown",
   "id": "86b06151-ad97-40fc-bfc3-8f5773bfd19b",
   "metadata": {},
   "source": [
    "## Boolean Masking and Adv. Indexing"
   ]
  },
  {
   "cell_type": "code",
   "execution_count": 138,
   "id": "c3e00eec-bb31-42c8-86bb-1264be2c8c12",
   "metadata": {},
   "outputs": [
    {
     "name": "stdout",
     "output_type": "stream",
     "text": [
      "[[False False False]\n",
      " [False False  True]\n",
      " [ True  True  True]]\n",
      "[6 7 8 9]\n"
     ]
    }
   ],
   "source": [
    "# Create Boolean Mask\n",
    "print(\n",
    "    sample_array > 5\n",
    ")\n",
    "\n",
    "# Index with Bool. Mask\n",
    "print(sample_array[sample_array > 5])"
   ]
  },
  {
   "cell_type": "markdown",
   "id": "c0c9de7d-2af8-4b41-bb50-872057fff4c7",
   "metadata": {},
   "source": [
    "### Change Array Properties"
   ]
  },
  {
   "cell_type": "code",
   "execution_count": 88,
   "id": "b575c346-d04d-4e29-86e4-b139cc161161",
   "metadata": {},
   "outputs": [
    {
     "name": "stdout",
     "output_type": "stream",
     "text": [
      "[[7 4 1]\n",
      " [8 7 6]\n",
      " [6 3 9]] \n",
      "\n",
      "Reshaped Array:\n",
      " [7 4 1 8 7 6 6 3 9] \n",
      "\n",
      "[[7 4 1]\n",
      " [8 7 6]\n",
      " [6 3 9]] \n",
      "\n"
     ]
    }
   ],
   "source": [
    "# Reshape an array\n",
    "random_array = np.random.randint(10, size=(3,3))\n",
    "print(random_array, \"\\n\")\n",
    "\n",
    "random_array_a = random_array.reshape((9)) # .flatten()\n",
    "\n",
    "print('Reshaped Array:\\n', random_array_a , \"\\n\")\n",
    "\n",
    "# Note that the original random_array is not modified. .reshape creates a new array and returns it. This is not the case for all methods\n",
    "print(random_array, \"\\n\")\n",
    "\n"
   ]
  },
  {
   "cell_type": "code",
   "execution_count": 127,
   "id": "48528b10-7272-4e1f-bdce-10a6c2fe5bc4",
   "metadata": {},
   "outputs": [
    {
     "name": "stdout",
     "output_type": "stream",
     "text": [
      "float32\n"
     ]
    }
   ],
   "source": [
    "# Change the type of an array\n",
    "random_array.dtype = 'float32'\n",
    "print(random_array.dtype)"
   ]
  },
  {
   "cell_type": "markdown",
   "id": "8708c50e-f9c2-424b-aa22-5541b98a15ae",
   "metadata": {},
   "source": [
    "## Combining arrays together"
   ]
  },
  {
   "cell_type": "code",
   "execution_count": 20,
   "id": "ff4ca21b-6c8a-4831-9718-10623a7e5656",
   "metadata": {},
   "outputs": [
    {
     "name": "stdout",
     "output_type": "stream",
     "text": [
      "[[1.]\n",
      " [1.]\n",
      " [1.]] \n",
      "\n",
      "[[2]\n",
      " [2]\n",
      " [2]] \n",
      "\n",
      "[[1. 2.]\n",
      " [1. 2.]\n",
      " [1. 2.]] \n",
      "\n",
      "[[1.]\n",
      " [1.]\n",
      " [1.]\n",
      " [2.]\n",
      " [2.]\n",
      " [2.]]\n"
     ]
    }
   ],
   "source": [
    "ones_array = np.ones((3,1))\n",
    "twos_array = np.full((3,1), 2)\n",
    "print(ones_array, '\\n')\n",
    "print(twos_array, '\\n')\n",
    "\n",
    "# Horizontally combining arrays\n",
    "print(np.hstack((ones_array, twos_array)), '\\n')\n",
    "\n",
    "# Vertically combining arrays\n",
    "print(np.vstack((ones_array, twos_array)))"
   ]
  },
  {
   "cell_type": "markdown",
   "id": "ecbb9a9c-4017-4c93-b050-1f6d2f2c7323",
   "metadata": {},
   "source": [
    "## Math"
   ]
  },
  {
   "cell_type": "code",
   "execution_count": 101,
   "id": "4df1d8b6-5369-4331-ad19-7bcbc0bfce37",
   "metadata": {},
   "outputs": [
    {
     "name": "stdout",
     "output_type": "stream",
     "text": [
      "[2 3 4 5]\n",
      "[0 1 2 3]\n",
      "[ 3  6  9 12]\n",
      "[0.33333333 0.66666667 1.         1.33333333]\n",
      "[ 0.84147098  0.90929743  0.14112001 -0.7568025 ]\n",
      "[1 2 3 4]\n",
      "10\n"
     ]
    }
   ],
   "source": [
    "simple_array = np.array([1, 2, 3, 4])\n",
    "\n",
    "# Simple operations changes all uniformily\n",
    "print(simple_array + 1)\n",
    "print(simple_array - 1)\n",
    "print(simple_array * 3)\n",
    "print(simple_array / 3)\n",
    "print(np.sin(simple_array))\n",
    "print(np.sum(simple_array))"
   ]
  },
  {
   "cell_type": "markdown",
   "id": "bd7f5762-9a3b-4c9c-b9f9-0849aad180dc",
   "metadata": {},
   "source": [
    "### Stats"
   ]
  },
  {
   "cell_type": "code",
   "execution_count": 91,
   "id": "88abd7cf-62ff-41cc-a0b3-4bb8281c5098",
   "metadata": {},
   "outputs": [
    {
     "name": "stdout",
     "output_type": "stream",
     "text": [
      "[1 2 3 4]\n",
      "4\n",
      "1\n",
      "2.5\n",
      "1.118033988749895\n"
     ]
    }
   ],
   "source": [
    "# Min, Max, Mean, Standard Deviation \n",
    "print(simple_array)\n",
    "print(np.max(simple_array))\n",
    "print(np.min(simple_array))\n",
    "print(simple_array.mean())\n",
    "print(simple_array.std())"
   ]
  },
  {
   "cell_type": "markdown",
   "id": "a559c8c3-ae56-452f-886e-f98acf3fcbdc",
   "metadata": {},
   "source": [
    "## Linear Algebra"
   ]
  },
  {
   "cell_type": "code",
   "execution_count": 99,
   "id": "ce8038c9-8519-441a-b5bf-c983d51164b9",
   "metadata": {},
   "outputs": [
    {
     "name": "stdout",
     "output_type": "stream",
     "text": [
      "[[3 1 4]\n",
      " [1 5 9]\n",
      " [2 6 5]]\n"
     ]
    }
   ],
   "source": [
    "first_matrix = np.matrix([[3, 1, 4], [1, 5, 9], [2, 6, 5]])\n",
    "print(first_matrix)"
   ]
  },
  {
   "cell_type": "code",
   "execution_count": 96,
   "id": "8268a334-7bfe-43e1-baa2-2207c1a4c808",
   "metadata": {},
   "outputs": [
    {
     "name": "stdout",
     "output_type": "stream",
     "text": [
      "[[3 1 2]\n",
      " [1 5 6]\n",
      " [4 9 5]]\n"
     ]
    }
   ],
   "source": [
    "# Transverse\n",
    "print(first_matrix.T)"
   ]
  },
  {
   "cell_type": "code",
   "execution_count": 97,
   "id": "9c22ae07-7182-4f06-a86c-37839df06c9c",
   "metadata": {},
   "outputs": [
    {
     "name": "stdout",
     "output_type": "stream",
     "text": [
      "[[ 0.32222222 -0.21111111  0.12222222]\n",
      " [-0.14444444 -0.07777778  0.25555556]\n",
      " [ 0.04444444  0.17777778 -0.15555556]]\n"
     ]
    }
   ],
   "source": [
    "# Inverse\n",
    "print(first_matrix.I)"
   ]
  },
  {
   "cell_type": "code",
   "execution_count": 152,
   "id": "026f5e55-4157-4f00-9b95-7c74b2d5df18",
   "metadata": {},
   "outputs": [
    {
     "name": "stdout",
     "output_type": "stream",
     "text": [
      "[[18 32 41]\n",
      " [26 80 94]\n",
      " [22 62 87]]\n",
      "[[18 32 41]\n",
      " [26 80 94]\n",
      " [22 62 87]]\n"
     ]
    }
   ],
   "source": [
    "# Multiply arrays\n",
    "\n",
    "print(first_matrix.dot(first_matrix))\n",
    "print(first_matrix @ first_matrix)"
   ]
  },
  {
   "cell_type": "markdown",
   "id": "ae8e33bf-2da8-42c5-b2f3-66decc012b61",
   "metadata": {},
   "source": [
    "# Quick Intro to Matplotlib\n",
    "\n",
    "### What is Matplotlib\n",
    "\n",
    "> Matplotlib is a comprehensive library for creating static, animated, and interactive visualizations in Python\n",
    "\n",
    "\n",
    "Will create data for Linear Regression"
   ]
  },
  {
   "cell_type": "code",
   "execution_count": 111,
   "id": "ff05c801-dc94-40e5-bc09-d30a06aff7ab",
   "metadata": {},
   "outputs": [],
   "source": [
    "# Creating Noisy Data and the Target Data (for linear regression)\n",
    "mean, std = 0, 100 # mean and standard deviation\n",
    "s = np.random.normal(mean, std, 1000)\n",
    "target = np.arange(1000)\n",
    "data = target + s"
   ]
  },
  {
   "cell_type": "code",
   "execution_count": 112,
   "id": "18ee16bf-093a-4b8b-9632-dc8c05bb7aa5",
   "metadata": {},
   "outputs": [
    {
     "data": {
      "image/png": "[encoded data removed]",
      "text/plain": [
       "<Figure size 1440x720 with 1 Axes>"
      ]
     },
     "metadata": {
      "needs_background": "light"
     },
     "output_type": "display_data"
    }
   ],
   "source": [
    "import matplotlib.pyplot as plt\n",
    "# Only use this in Jupyter Notebooks. It uses Jupyter Notebook defaults for painting onto screen\n",
    "%matplotlib inline \n",
    "\n",
    "# Change the size of the plot you see in inches. Default is 6.4 inches by 4.8 inches\n",
    "plt.figure(figsize=(20,10))\n",
    "\n",
    "# Plot the data\n",
    "# .plot plots an x verses y\n",
    "# after the data, you can add what is called \"fmt options\" where it extra options to customize your graphs\n",
    "plt.plot(range(len(data)), data, '+', color=\"lightgreen\", label=\"Noisy/Read World Data\")\n",
    "\n",
    "# plot another set of data\n",
    "# When using the default x values where x starts at 0, you don't need to specify the x argument\n",
    "plt.plot(target, color='black', label=\"Target Data\")\n",
    "\n",
    "# These plots below are to mimic how linear regression works (Note this is not actually is). This is for the next part\n",
    "plt.plot((target * 0.5 - 10), color='#420e51', label=\"3rd interation\")\n",
    "plt.plot((target * 0.25 - 20), color='#74198e', label=\"2nd interation\")\n",
    "plt.plot((target * 0 - 30), color='#a724cc', label=\"1st interation\")\n",
    "\n",
    "# Label the Graph\n",
    "plt.title(\"Noisy Data and Target Data to Predict with Linear Regression\")\n",
    "plt.ylabel(\"Y Value\")\n",
    "plt.xlabel(\"X Value\")\n",
    "plt.legend()\n",
    "# Show your final graph\n",
    "plt.show()"
   ]
  },
  {
   "attachments": {
    "91a6701b-0199-4485-883a-219571d2e7a0.png": {
     "image/png": "[encoded data removed]"
    },
    "c13897fd-68aa-44ac-ac5e-a1d0df747789.png": {
     "image/png": "[encoded data removed]"
    }
   },
   "cell_type": "markdown",
   "id": "4cb37656-2a49-43dd-b052-09dc52bf5368",
   "metadata": {},
   "source": [
    "## Implementation of Linear Regression in NumPy (with Data Above)\n",
    "(no regularization)\n",
    "\n",
    "Note: If you don't understand this, that's okay! We have a whole workshop on this!\n",
    "\n",
    "#### Cost Function\n",
    "h(x) -> the predicted y value\n",
    "\n",
    "m -> number of samples\n",
    "\n",
    "y hat -> the predicted y value\n",
    "\n",
    "The theta is the parameters\n",
    "![image.png](attachment:c13897fd-68aa-44ac-ac5e-a1d0df747789.png)\n",
    "\n",
    "#### Gradient Descent\n",
    "\n",
    "alpha -> learning rate\n",
    "\n",
    "![image.png](attachment:91a6701b-0199-4485-883a-219571d2e7a0.png)"
   ]
  },
  {
   "cell_type": "code",
   "execution_count": 125,
   "id": "614fcd92-4275-4bdf-9825-88388a389408",
   "metadata": {},
   "outputs": [
    {
     "name": "stdout",
     "output_type": "stream",
     "text": [
      "Initial cost: 168625.92910065496 \n",
      "\n",
      "Final cost: 4912.193489169676\n"
     ]
    },
    {
     "data": {
      "image/png": "[encoded data removed]",
      "text/plain": [
       "<Figure size 432x288 with 1 Axes>"
      ]
     },
     "metadata": {
      "needs_background": "light"
     },
     "output_type": "display_data"
    },
    {
     "data": {
      "image/png": "[encoded data removed]",
      "text/plain": [
       "<Figure size 1440x720 with 1 Axes>"
      ]
     },
     "metadata": {
      "needs_background": "light"
     },
     "output_type": "display_data"
    }
   ],
   "source": [
    "import numpy as np\n",
    "import matplotlib.pyplot as plt\n",
    "\n",
    "# Reshape the data into vectors\n",
    "X = target.reshape((target.shape[0],1))\n",
    "y = data.reshape((data.shape[0],1))\n",
    "\n",
    "# Cost Function from the equation above\n",
    "def cost(X, y, params):\n",
    "    m_samples = len(y)\n",
    "    h = X @ params\n",
    "    return (1/(2*m_samples))*np.sum((h-y)**2)\n",
    "\n",
    "# Gradient descent\n",
    "def gradient_descent(X, y, params, learning_rate, m_iters):\n",
    "    m_samples = len(y)\n",
    "    cost_history = np.zeros((n_iters,1))\n",
    "\n",
    "    for i in range(m_iters):\n",
    "        params = params - (learning_rate/m_samples) * (X.T @ (X @ params - y))\n",
    "        cost_history[i] = cost(X, y, params)\n",
    "\n",
    "    return (cost_history, params)\n",
    "\n",
    "m_samples = len(y)\n",
    "\n",
    "# Regularizing the input\n",
    "mean = np.mean(X, 0)\n",
    "std = np.std(X, 0)\n",
    "X = (X-mean) / std\n",
    "\n",
    "# Adding an array of 1s\n",
    "X = np.hstack((np.ones((m_samples,1)),X))\n",
    "m_features = np.size(X,1)\n",
    "params = np.zeros((m_features,1))\n",
    "\n",
    "n_iters = 1500\n",
    "learning_rate = 0.01\n",
    "\n",
    "initial_cost = cost(X, y, params)\n",
    "\n",
    "print(\"Initial cost:\", initial_cost, \"\\n\")\n",
    "\n",
    "cost_history, optimal_params = gradient_descent(X, y, params, learning_rate, n_iters)\n",
    "\n",
    "print(\"Final cost:\", cost_history[-1][0])\n",
    "\n",
    "plt.plot(range(len(cost_history)), cost_history)\n",
    "\n",
    "plt.title(\"Change of Cost over time\")\n",
    "plt.xlabel(\"Iterations\")\n",
    "plt.ylabel(\"Cost\")\n",
    "plt.show()\n",
    "\n",
    "\n",
    "# ------------------------- Graphing the resulting model ------------------------\n",
    "\n",
    "\n",
    "# Change the size of the plot you see in inches. Default is 6.4 inches by 4.8 inches\n",
    "plt.figure(figsize=(20,10))\n",
    "\n",
    "# Plot the data\n",
    "# .plot plots an x verses y\n",
    "# after the data, you can add what is called \"fmt options\" where it extra options to customize your graphs\n",
    "plt.plot(range(len(data)), data, '+', color=\"lightgreen\", label=\"Noisy/Read World Data\")\n",
    "\n",
    "# plot another set of data\n",
    "# When using the default x values where x starts at 0, you don't need to specify the x argument\n",
    "plt.plot(np.arange(1000), color='black', label=\"Target Data\")\n",
    "\n",
    "# Predicted line from the linear repression using the optimal parameters\n",
    "# Doing the same thing as when training the model\n",
    "X_predict = np.arange(1000).reshape((np.arange(1000).shape[0],1))\n",
    "mean = np.mean(X_predict, 0)\n",
    "std = np.std(X_predict, 0)\n",
    "X_predict = (X_predict-mean) / std\n",
    "X_predict = np.hstack((np.ones((m_samples,1)),X_predict))\n",
    "plt.plot((X_predict @ optimal_params), color=\"red\", label=\"Predicted Data\")\n",
    "\n",
    "# Label the Graph\n",
    "plt.title(\"Noisy Data and Target Data to Predict with Linear Regression\")\n",
    "plt.ylabel(\"Y Value\")\n",
    "plt.xlabel(\"X Value\")\n",
    "plt.legend()\n",
    "# Show your final graph\n",
    "plt.show()"
   ]
  },
  {
   "cell_type": "markdown",
   "id": "269653bf-f83a-4104-962f-c23f18decd2c",
   "metadata": {},
   "source": [
    "# Pandas\n",
    "\n",
    "Pandas is a module used to clean, sort, visualize and **understand** data in Python\n",
    "- The 2 main data structure used by pandas to to this is called the *DataFrame* and *Series*\n",
    "\n",
    "In the image below, the entire table is the *\"DataFrame\"* while the intividual one dimentional arrays are called the *\"Series\"*\n",
    "<img src=\"https://media.geeksforgeeks.org/wp-content/uploads/dataSER-1.png\" />"
   ]
  },
  {
   "cell_type": "code",
   "execution_count": 59,
   "id": "15cf3466-3695-4c46-9d07-e0fb55388f9d",
   "metadata": {},
   "outputs": [
    {
     "name": "stdout",
     "output_type": "stream",
     "text": [
      "   a  b  c\n",
      "0  1  2  3\n",
      "1  4  5  6\n",
      "2  7  8  9\n",
      "   a  b  c\n",
      "0  1  2  3\n",
      "1  4  5  6\n",
      "2  7  8  9\n"
     ]
    }
   ],
   "source": [
    "# How to make DataFrames\n",
    "import pandas as pd\n",
    "\n",
    "df = pd.DataFrame(\n",
    "    [\n",
    "        [1, 2, 3], \n",
    "        [4, 5, 6], \n",
    "        [7, 8, 9]\n",
    "    ],\n",
    "    columns=['a', 'b', 'c'])\n",
    "\n",
    "# Note: the numbers are arranged in a different order (transvere) due to keeping the columns consistent\n",
    "df2 = pd.DataFrame({\n",
    "    'a': [1,4,7],\n",
    "    'b': [2,5,8],\n",
    "    'c': [3,6,9]\n",
    "})\n",
    "print(df)\n",
    "print(df2)\n"
   ]
  },
  {
   "cell_type": "code",
   "execution_count": 126,
   "id": "1be62a55-14d8-4fed-8c52-5eb09b6230d0",
   "metadata": {},
   "outputs": [
    {
     "data": {
      "text/plain": [
       "0    1\n",
       "1    4\n",
       "2    7\n",
       "Name: a, dtype: int64"
      ]
     },
     "execution_count": 126,
     "metadata": {},
     "output_type": "execute_result"
    }
   ],
   "source": [
    "# Output a column -> use a columns name\n",
    "df['a']"
   ]
  },
  {
   "cell_type": "code",
   "execution_count": 128,
   "id": "e74a4ef3-26a8-4eaa-b051-d66a2a91a2e8",
   "metadata": {},
   "outputs": [
    {
     "data": {
      "text/plain": [
       "a    1\n",
       "b    2\n",
       "c    3\n",
       "Name: 0, dtype: int64"
      ]
     },
     "execution_count": 128,
     "metadata": {},
     "output_type": "execute_result"
    }
   ],
   "source": [
    "# output a row -> use .iloc\n",
    "df.iloc[0]"
   ]
  },
  {
   "cell_type": "code",
   "execution_count": 129,
   "id": "89228cb6-c4f6-4002-b72e-3dffef65b426",
   "metadata": {},
   "outputs": [
    {
     "data": {
      "text/plain": [
       "0    False\n",
       "1     True\n",
       "2     True\n",
       "Name: a, dtype: bool"
      ]
     },
     "execution_count": 129,
     "metadata": {},
     "output_type": "execute_result"
    }
   ],
   "source": [
    "# Boolean masking\n",
    "df['a'] > 1"
   ]
  },
  {
   "cell_type": "code",
   "execution_count": 130,
   "id": "786fb8a8-52c8-48b7-a618-4fc6f0729b8e",
   "metadata": {},
   "outputs": [
    {
     "data": {
      "text/html": [
       "<div>\n",
       "<style scoped>\n",
       "    .dataframe tbody tr th:only-of-type {\n",
       "        vertical-align: middle;\n",
       "    }\n",
       "\n",
       "    .dataframe tbody tr th {\n",
       "        vertical-align: top;\n",
       "    }\n",
       "\n",
       "    .dataframe thead th {\n",
       "        text-align: right;\n",
       "    }\n",
       "</style>\n",
       "<table border=\"1\" class=\"dataframe\">\n",
       "  <thead>\n",
       "    <tr style=\"text-align: right;\">\n",
       "      <th></th>\n",
       "      <th>a</th>\n",
       "      <th>b</th>\n",
       "      <th>c</th>\n",
       "    </tr>\n",
       "  </thead>\n",
       "  <tbody>\n",
       "    <tr>\n",
       "      <th>1</th>\n",
       "      <td>4</td>\n",
       "      <td>5</td>\n",
       "      <td>6</td>\n",
       "    </tr>\n",
       "    <tr>\n",
       "      <th>2</th>\n",
       "      <td>7</td>\n",
       "      <td>8</td>\n",
       "      <td>9</td>\n",
       "    </tr>\n",
       "  </tbody>\n",
       "</table>\n",
       "</div>"
      ],
      "text/plain": [
       "   a  b  c\n",
       "1  4  5  6\n",
       "2  7  8  9"
      ]
     },
     "execution_count": 130,
     "metadata": {},
     "output_type": "execute_result"
    }
   ],
   "source": [
    "df[df['a'] > 1]"
   ]
  },
  {
   "cell_type": "code",
   "execution_count": 132,
   "id": "a7ffc17c-14e1-4fe7-a808-e3ac382548b4",
   "metadata": {},
   "outputs": [],
   "source": [
    "titanic_df = pd.read_csv(\"titanic.csv\", index_col=None)"
   ]
  },
  {
   "cell_type": "code",
   "execution_count": 133,
   "id": "2bdff873-be2c-4277-8a5c-ce5527ea8dd7",
   "metadata": {},
   "outputs": [
    {
     "data": {
      "text/html": [
       "<div>\n",
       "<style scoped>\n",
       "    .dataframe tbody tr th:only-of-type {\n",
       "        vertical-align: middle;\n",
       "    }\n",
       "\n",
       "    .dataframe tbody tr th {\n",
       "        vertical-align: top;\n",
       "    }\n",
       "\n",
       "    .dataframe thead th {\n",
       "        text-align: right;\n",
       "    }\n",
       "</style>\n",
       "<table border=\"1\" class=\"dataframe\">\n",
       "  <thead>\n",
       "    <tr style=\"text-align: right;\">\n",
       "      <th></th>\n",
       "      <th>PassengerId</th>\n",
       "      <th>Survived</th>\n",
       "      <th>Pclass</th>\n",
       "      <th>Name</th>\n",
       "      <th>Sex</th>\n",
       "      <th>Age</th>\n",
       "      <th>SibSp</th>\n",
       "      <th>Parch</th>\n",
       "      <th>Ticket</th>\n",
       "      <th>Fare</th>\n",
       "      <th>Cabin</th>\n",
       "      <th>Embarked</th>\n",
       "    </tr>\n",
       "  </thead>\n",
       "  <tbody>\n",
       "    <tr>\n",
       "      <th>0</th>\n",
       "      <td>1</td>\n",
       "      <td>0</td>\n",
       "      <td>3</td>\n",
       "      <td>Braund, Mr. Owen Harris</td>\n",
       "      <td>male</td>\n",
       "      <td>22.0</td>\n",
       "      <td>1</td>\n",
       "      <td>0</td>\n",
       "      <td>A/5 21171</td>\n",
       "      <td>7.2500</td>\n",
       "      <td>NaN</td>\n",
       "      <td>S</td>\n",
       "    </tr>\n",
       "    <tr>\n",
       "      <th>1</th>\n",
       "      <td>2</td>\n",
       "      <td>1</td>\n",
       "      <td>1</td>\n",
       "      <td>Cumings, Mrs. John Bradley (Florence Briggs Th...</td>\n",
       "      <td>female</td>\n",
       "      <td>38.0</td>\n",
       "      <td>1</td>\n",
       "      <td>0</td>\n",
       "      <td>PC 17599</td>\n",
       "      <td>71.2833</td>\n",
       "      <td>C85</td>\n",
       "      <td>C</td>\n",
       "    </tr>\n",
       "    <tr>\n",
       "      <th>2</th>\n",
       "      <td>3</td>\n",
       "      <td>1</td>\n",
       "      <td>3</td>\n",
       "      <td>Heikkinen, Miss. Laina</td>\n",
       "      <td>female</td>\n",
       "      <td>26.0</td>\n",
       "      <td>0</td>\n",
       "      <td>0</td>\n",
       "      <td>STON/O2. 3101282</td>\n",
       "      <td>7.9250</td>\n",
       "      <td>NaN</td>\n",
       "      <td>S</td>\n",
       "    </tr>\n",
       "    <tr>\n",
       "      <th>3</th>\n",
       "      <td>4</td>\n",
       "      <td>1</td>\n",
       "      <td>1</td>\n",
       "      <td>Futrelle, Mrs. Jacques Heath (Lily May Peel)</td>\n",
       "      <td>female</td>\n",
       "      <td>35.0</td>\n",
       "      <td>1</td>\n",
       "      <td>0</td>\n",
       "      <td>113803</td>\n",
       "      <td>53.1000</td>\n",
       "      <td>C123</td>\n",
       "      <td>S</td>\n",
       "    </tr>\n",
       "    <tr>\n",
       "      <th>4</th>\n",
       "      <td>5</td>\n",
       "      <td>0</td>\n",
       "      <td>3</td>\n",
       "      <td>Allen, Mr. William Henry</td>\n",
       "      <td>male</td>\n",
       "      <td>35.0</td>\n",
       "      <td>0</td>\n",
       "      <td>0</td>\n",
       "      <td>373450</td>\n",
       "      <td>8.0500</td>\n",
       "      <td>NaN</td>\n",
       "      <td>S</td>\n",
       "    </tr>\n",
       "  </tbody>\n",
       "</table>\n",
       "</div>"
      ],
      "text/plain": [
       "   PassengerId  Survived  Pclass  \\\n",
       "0            1         0       3   \n",
       "1            2         1       1   \n",
       "2            3         1       3   \n",
       "3            4         1       1   \n",
       "4            5         0       3   \n",
       "\n",
       "                                                Name     Sex   Age  SibSp  \\\n",
       "0                            Braund, Mr. Owen Harris    male  22.0      1   \n",
       "1  Cumings, Mrs. John Bradley (Florence Briggs Th...  female  38.0      1   \n",
       "2                             Heikkinen, Miss. Laina  female  26.0      0   \n",
       "3       Futrelle, Mrs. Jacques Heath (Lily May Peel)  female  35.0      1   \n",
       "4                           Allen, Mr. William Henry    male  35.0      0   \n",
       "\n",
       "   Parch            Ticket     Fare Cabin Embarked  \n",
       "0      0         A/5 21171   7.2500   NaN        S  \n",
       "1      0          PC 17599  71.2833   C85        C  \n",
       "2      0  STON/O2. 3101282   7.9250   NaN        S  \n",
       "3      0            113803  53.1000  C123        S  \n",
       "4      0            373450   8.0500   NaN        S  "
      ]
     },
     "execution_count": 133,
     "metadata": {},
     "output_type": "execute_result"
    }
   ],
   "source": [
    "titanic_df.head()"
   ]
  },
  {
   "cell_type": "code",
   "execution_count": 134,
   "id": "b80d821b-d918-4367-9bc5-490f36a663e8",
   "metadata": {},
   "outputs": [
    {
     "data": {
      "text/html": [
       "<div>\n",
       "<style scoped>\n",
       "    .dataframe tbody tr th:only-of-type {\n",
       "        vertical-align: middle;\n",
       "    }\n",
       "\n",
       "    .dataframe tbody tr th {\n",
       "        vertical-align: top;\n",
       "    }\n",
       "\n",
       "    .dataframe thead th {\n",
       "        text-align: right;\n",
       "    }\n",
       "</style>\n",
       "<table border=\"1\" class=\"dataframe\">\n",
       "  <thead>\n",
       "    <tr style=\"text-align: right;\">\n",
       "      <th></th>\n",
       "      <th>PassengerId</th>\n",
       "      <th>Survived</th>\n",
       "      <th>Pclass</th>\n",
       "      <th>Age</th>\n",
       "      <th>SibSp</th>\n",
       "      <th>Parch</th>\n",
       "      <th>Fare</th>\n",
       "    </tr>\n",
       "  </thead>\n",
       "  <tbody>\n",
       "    <tr>\n",
       "      <th>count</th>\n",
       "      <td>891.000000</td>\n",
       "      <td>891.000000</td>\n",
       "      <td>891.000000</td>\n",
       "      <td>714.000000</td>\n",
       "      <td>891.000000</td>\n",
       "      <td>891.000000</td>\n",
       "      <td>891.000000</td>\n",
       "    </tr>\n",
       "    <tr>\n",
       "      <th>mean</th>\n",
       "      <td>446.000000</td>\n",
       "      <td>0.383838</td>\n",
       "      <td>2.308642</td>\n",
       "      <td>29.699118</td>\n",
       "      <td>0.523008</td>\n",
       "      <td>0.381594</td>\n",
       "      <td>32.204208</td>\n",
       "    </tr>\n",
       "    <tr>\n",
       "      <th>std</th>\n",
       "      <td>257.353842</td>\n",
       "      <td>0.486592</td>\n",
       "      <td>0.836071</td>\n",
       "      <td>14.526497</td>\n",
       "      <td>1.102743</td>\n",
       "      <td>0.806057</td>\n",
       "      <td>49.693429</td>\n",
       "    </tr>\n",
       "    <tr>\n",
       "      <th>min</th>\n",
       "      <td>1.000000</td>\n",
       "      <td>0.000000</td>\n",
       "      <td>1.000000</td>\n",
       "      <td>0.420000</td>\n",
       "      <td>0.000000</td>\n",
       "      <td>0.000000</td>\n",
       "      <td>0.000000</td>\n",
       "    </tr>\n",
       "    <tr>\n",
       "      <th>25%</th>\n",
       "      <td>223.500000</td>\n",
       "      <td>0.000000</td>\n",
       "      <td>2.000000</td>\n",
       "      <td>20.125000</td>\n",
       "      <td>0.000000</td>\n",
       "      <td>0.000000</td>\n",
       "      <td>7.910400</td>\n",
       "    </tr>\n",
       "    <tr>\n",
       "      <th>50%</th>\n",
       "      <td>446.000000</td>\n",
       "      <td>0.000000</td>\n",
       "      <td>3.000000</td>\n",
       "      <td>28.000000</td>\n",
       "      <td>0.000000</td>\n",
       "      <td>0.000000</td>\n",
       "      <td>14.454200</td>\n",
       "    </tr>\n",
       "    <tr>\n",
       "      <th>75%</th>\n",
       "      <td>668.500000</td>\n",
       "      <td>1.000000</td>\n",
       "      <td>3.000000</td>\n",
       "      <td>38.000000</td>\n",
       "      <td>1.000000</td>\n",
       "      <td>0.000000</td>\n",
       "      <td>31.000000</td>\n",
       "    </tr>\n",
       "    <tr>\n",
       "      <th>max</th>\n",
       "      <td>891.000000</td>\n",
       "      <td>1.000000</td>\n",
       "      <td>3.000000</td>\n",
       "      <td>80.000000</td>\n",
       "      <td>8.000000</td>\n",
       "      <td>6.000000</td>\n",
       "      <td>512.329200</td>\n",
       "    </tr>\n",
       "  </tbody>\n",
       "</table>\n",
       "</div>"
      ],
      "text/plain": [
       "       PassengerId    Survived      Pclass         Age       SibSp  \\\n",
       "count   891.000000  891.000000  891.000000  714.000000  891.000000   \n",
       "mean    446.000000    0.383838    2.308642   29.699118    0.523008   \n",
       "std     257.353842    0.486592    0.836071   14.526497    1.102743   \n",
       "min       1.000000    0.000000    1.000000    0.420000    0.000000   \n",
       "25%     223.500000    0.000000    2.000000   20.125000    0.000000   \n",
       "50%     446.000000    0.000000    3.000000   28.000000    0.000000   \n",
       "75%     668.500000    1.000000    3.000000   38.000000    1.000000   \n",
       "max     891.000000    1.000000    3.000000   80.000000    8.000000   \n",
       "\n",
       "            Parch        Fare  \n",
       "count  891.000000  891.000000  \n",
       "mean     0.381594   32.204208  \n",
       "std      0.806057   49.693429  \n",
       "min      0.000000    0.000000  \n",
       "25%      0.000000    7.910400  \n",
       "50%      0.000000   14.454200  \n",
       "75%      0.000000   31.000000  \n",
       "max      6.000000  512.329200  "
      ]
     },
     "execution_count": 134,
     "metadata": {},
     "output_type": "execute_result"
    }
   ],
   "source": [
    "titanic_df.describe()"
   ]
  },
  {
   "cell_type": "code",
   "execution_count": 137,
   "id": "2e031722-d360-4e6c-8c92-d76fe9e471b0",
   "metadata": {},
   "outputs": [
    {
     "data": {
      "text/html": [
       "<div>\n",
       "<style scoped>\n",
       "    .dataframe tbody tr th:only-of-type {\n",
       "        vertical-align: middle;\n",
       "    }\n",
       "\n",
       "    .dataframe tbody tr th {\n",
       "        vertical-align: top;\n",
       "    }\n",
       "\n",
       "    .dataframe thead th {\n",
       "        text-align: right;\n",
       "    }\n",
       "</style>\n",
       "<table border=\"1\" class=\"dataframe\">\n",
       "  <thead>\n",
       "    <tr style=\"text-align: right;\">\n",
       "      <th></th>\n",
       "      <th>Survived</th>\n",
       "      <th>Pclass</th>\n",
       "      <th>Name</th>\n",
       "      <th>Sex</th>\n",
       "      <th>Age</th>\n",
       "      <th>SibSp</th>\n",
       "      <th>Parch</th>\n",
       "      <th>Ticket</th>\n",
       "      <th>Fare</th>\n",
       "      <th>Cabin</th>\n",
       "      <th>Embarked</th>\n",
       "    </tr>\n",
       "  </thead>\n",
       "  <tbody>\n",
       "    <tr>\n",
       "      <th>0</th>\n",
       "      <td>0</td>\n",
       "      <td>3</td>\n",
       "      <td>Braund, Mr. Owen Harris</td>\n",
       "      <td>male</td>\n",
       "      <td>22.0</td>\n",
       "      <td>1</td>\n",
       "      <td>0</td>\n",
       "      <td>A/5 21171</td>\n",
       "      <td>7.2500</td>\n",
       "      <td>NaN</td>\n",
       "      <td>S</td>\n",
       "    </tr>\n",
       "    <tr>\n",
       "      <th>1</th>\n",
       "      <td>1</td>\n",
       "      <td>1</td>\n",
       "      <td>Cumings, Mrs. John Bradley (Florence Briggs Th...</td>\n",
       "      <td>female</td>\n",
       "      <td>38.0</td>\n",
       "      <td>1</td>\n",
       "      <td>0</td>\n",
       "      <td>PC 17599</td>\n",
       "      <td>71.2833</td>\n",
       "      <td>C85</td>\n",
       "      <td>C</td>\n",
       "    </tr>\n",
       "    <tr>\n",
       "      <th>2</th>\n",
       "      <td>1</td>\n",
       "      <td>3</td>\n",
       "      <td>Heikkinen, Miss. Laina</td>\n",
       "      <td>female</td>\n",
       "      <td>26.0</td>\n",
       "      <td>0</td>\n",
       "      <td>0</td>\n",
       "      <td>STON/O2. 3101282</td>\n",
       "      <td>7.9250</td>\n",
       "      <td>NaN</td>\n",
       "      <td>S</td>\n",
       "    </tr>\n",
       "    <tr>\n",
       "      <th>3</th>\n",
       "      <td>1</td>\n",
       "      <td>1</td>\n",
       "      <td>Futrelle, Mrs. Jacques Heath (Lily May Peel)</td>\n",
       "      <td>female</td>\n",
       "      <td>35.0</td>\n",
       "      <td>1</td>\n",
       "      <td>0</td>\n",
       "      <td>113803</td>\n",
       "      <td>53.1000</td>\n",
       "      <td>C123</td>\n",
       "      <td>S</td>\n",
       "    </tr>\n",
       "    <tr>\n",
       "      <th>4</th>\n",
       "      <td>0</td>\n",
       "      <td>3</td>\n",
       "      <td>Allen, Mr. William Henry</td>\n",
       "      <td>male</td>\n",
       "      <td>35.0</td>\n",
       "      <td>0</td>\n",
       "      <td>0</td>\n",
       "      <td>373450</td>\n",
       "      <td>8.0500</td>\n",
       "      <td>NaN</td>\n",
       "      <td>S</td>\n",
       "    </tr>\n",
       "  </tbody>\n",
       "</table>\n",
       "</div>"
      ],
      "text/plain": [
       "   Survived  Pclass                                               Name  \\\n",
       "0         0       3                            Braund, Mr. Owen Harris   \n",
       "1         1       1  Cumings, Mrs. John Bradley (Florence Briggs Th...   \n",
       "2         1       3                             Heikkinen, Miss. Laina   \n",
       "3         1       1       Futrelle, Mrs. Jacques Heath (Lily May Peel)   \n",
       "4         0       3                           Allen, Mr. William Henry   \n",
       "\n",
       "      Sex   Age  SibSp  Parch            Ticket     Fare Cabin Embarked  \n",
       "0    male  22.0      1      0         A/5 21171   7.2500   NaN        S  \n",
       "1  female  38.0      1      0          PC 17599  71.2833   C85        C  \n",
       "2  female  26.0      0      0  STON/O2. 3101282   7.9250   NaN        S  \n",
       "3  female  35.0      1      0            113803  53.1000  C123        S  \n",
       "4    male  35.0      0      0            373450   8.0500   NaN        S  "
      ]
     },
     "execution_count": 137,
     "metadata": {},
     "output_type": "execute_result"
    }
   ],
   "source": [
    "titanic_df.drop(['PassengerId'], axis=1).head()"
   ]
  },
  {
   "cell_type": "code",
   "execution_count": 140,
   "id": "33b7fef5-2490-4ae5-bcd4-38ee92ef7bf2",
   "metadata": {},
   "outputs": [
    {
     "data": {
      "text/plain": [
       "PassengerId      0\n",
       "Survived         0\n",
       "Pclass           0\n",
       "Name             0\n",
       "Sex              0\n",
       "Age            177\n",
       "SibSp            0\n",
       "Parch            0\n",
       "Ticket           0\n",
       "Fare             0\n",
       "Cabin          687\n",
       "Embarked         2\n",
       "dtype: int64"
      ]
     },
     "execution_count": 140,
     "metadata": {},
     "output_type": "execute_result"
    }
   ],
   "source": [
    "titanic_df.isnull().sum()"
   ]
  },
  {
   "cell_type": "code",
   "execution_count": 145,
   "id": "1ef34519-1ccd-4e3c-a37e-f1357c684642",
   "metadata": {},
   "outputs": [
    {
     "data": {
      "text/plain": [
       "<matplotlib.axes._subplots.AxesSubplot at 0x7fb2dac60550>"
      ]
     },
     "execution_count": 145,
     "metadata": {},
     "output_type": "execute_result"
    },
    {
     "data": {
      "image/png": "[encoded data removed]",
      "text/plain": [
       "<Figure size 432x288 with 1 Axes>"
      ]
     },
     "metadata": {
      "needs_background": "light"
     },
     "output_type": "display_data"
    }
   ],
   "source": [
    "pd.value_counts(titanic_df['Survived']).plot.bar()"
   ]
  },
  {
   "cell_type": "code",
   "execution_count": 152,
   "id": "78379e52-eb0f-4f2c-bd02-524f7b44d28e",
   "metadata": {},
   "outputs": [
    {
     "data": {
      "text/html": [
       "<div>\n",
       "<style scoped>\n",
       "    .dataframe tbody tr th:only-of-type {\n",
       "        vertical-align: middle;\n",
       "    }\n",
       "\n",
       "    .dataframe tbody tr th {\n",
       "        vertical-align: top;\n",
       "    }\n",
       "\n",
       "    .dataframe thead th {\n",
       "        text-align: right;\n",
       "    }\n",
       "</style>\n",
       "<table border=\"1\" class=\"dataframe\">\n",
       "  <thead>\n",
       "    <tr style=\"text-align: right;\">\n",
       "      <th></th>\n",
       "      <th>PassengerId</th>\n",
       "      <th>Survived</th>\n",
       "      <th>Pclass</th>\n",
       "      <th>Age</th>\n",
       "      <th>SibSp</th>\n",
       "      <th>Parch</th>\n",
       "      <th>Fare</th>\n",
       "    </tr>\n",
       "    <tr>\n",
       "      <th>Sex</th>\n",
       "      <th></th>\n",
       "      <th></th>\n",
       "      <th></th>\n",
       "      <th></th>\n",
       "      <th></th>\n",
       "      <th></th>\n",
       "      <th></th>\n",
       "    </tr>\n",
       "  </thead>\n",
       "  <tbody>\n",
       "    <tr>\n",
       "      <th>female</th>\n",
       "      <td>431.028662</td>\n",
       "      <td>0.742038</td>\n",
       "      <td>2.159236</td>\n",
       "      <td>27.915709</td>\n",
       "      <td>0.694268</td>\n",
       "      <td>0.649682</td>\n",
       "      <td>44.479818</td>\n",
       "    </tr>\n",
       "    <tr>\n",
       "      <th>male</th>\n",
       "      <td>454.147314</td>\n",
       "      <td>0.188908</td>\n",
       "      <td>2.389948</td>\n",
       "      <td>30.726645</td>\n",
       "      <td>0.429809</td>\n",
       "      <td>0.235702</td>\n",
       "      <td>25.523893</td>\n",
       "    </tr>\n",
       "  </tbody>\n",
       "</table>\n",
       "</div>"
      ],
      "text/plain": [
       "        PassengerId  Survived    Pclass        Age     SibSp     Parch  \\\n",
       "Sex                                                                      \n",
       "female   431.028662  0.742038  2.159236  27.915709  0.694268  0.649682   \n",
       "male     454.147314  0.188908  2.389948  30.726645  0.429809  0.235702   \n",
       "\n",
       "             Fare  \n",
       "Sex                \n",
       "female  44.479818  \n",
       "male    25.523893  "
      ]
     },
     "execution_count": 152,
     "metadata": {},
     "output_type": "execute_result"
    }
   ],
   "source": [
    "titanic_df.groupby(['Sex']).mean()"
   ]
  },
  {
   "cell_type": "code",
   "execution_count": 158,
   "id": "5d4c29ce-49a7-412c-98ed-2c3b4c4268f8",
   "metadata": {},
   "outputs": [
    {
     "data": {
      "text/html": [
       "<div>\n",
       "<style scoped>\n",
       "    .dataframe tbody tr th:only-of-type {\n",
       "        vertical-align: middle;\n",
       "    }\n",
       "\n",
       "    .dataframe tbody tr th {\n",
       "        vertical-align: top;\n",
       "    }\n",
       "\n",
       "    .dataframe thead th {\n",
       "        text-align: right;\n",
       "    }\n",
       "</style>\n",
       "<table border=\"1\" class=\"dataframe\">\n",
       "  <thead>\n",
       "    <tr style=\"text-align: right;\">\n",
       "      <th></th>\n",
       "      <th></th>\n",
       "      <th>PassengerId</th>\n",
       "      <th>Survived</th>\n",
       "      <th>Age</th>\n",
       "      <th>SibSp</th>\n",
       "      <th>Parch</th>\n",
       "      <th>Fare</th>\n",
       "    </tr>\n",
       "    <tr>\n",
       "      <th>Sex</th>\n",
       "      <th>Pclass</th>\n",
       "      <th></th>\n",
       "      <th></th>\n",
       "      <th></th>\n",
       "      <th></th>\n",
       "      <th></th>\n",
       "      <th></th>\n",
       "    </tr>\n",
       "  </thead>\n",
       "  <tbody>\n",
       "    <tr>\n",
       "      <th rowspan=\"3\" valign=\"top\">female</th>\n",
       "      <th>1</th>\n",
       "      <td>469.212766</td>\n",
       "      <td>0.968085</td>\n",
       "      <td>34.611765</td>\n",
       "      <td>0.553191</td>\n",
       "      <td>0.457447</td>\n",
       "      <td>106.125798</td>\n",
       "    </tr>\n",
       "    <tr>\n",
       "      <th>2</th>\n",
       "      <td>443.105263</td>\n",
       "      <td>0.921053</td>\n",
       "      <td>28.722973</td>\n",
       "      <td>0.486842</td>\n",
       "      <td>0.605263</td>\n",
       "      <td>21.970121</td>\n",
       "    </tr>\n",
       "    <tr>\n",
       "      <th>3</th>\n",
       "      <td>399.729167</td>\n",
       "      <td>0.500000</td>\n",
       "      <td>21.750000</td>\n",
       "      <td>0.895833</td>\n",
       "      <td>0.798611</td>\n",
       "      <td>16.118810</td>\n",
       "    </tr>\n",
       "    <tr>\n",
       "      <th rowspan=\"3\" valign=\"top\">male</th>\n",
       "      <th>1</th>\n",
       "      <td>455.729508</td>\n",
       "      <td>0.368852</td>\n",
       "      <td>41.281386</td>\n",
       "      <td>0.311475</td>\n",
       "      <td>0.278689</td>\n",
       "      <td>67.226127</td>\n",
       "    </tr>\n",
       "    <tr>\n",
       "      <th>2</th>\n",
       "      <td>447.962963</td>\n",
       "      <td>0.157407</td>\n",
       "      <td>30.740707</td>\n",
       "      <td>0.342593</td>\n",
       "      <td>0.222222</td>\n",
       "      <td>19.741782</td>\n",
       "    </tr>\n",
       "    <tr>\n",
       "      <th>3</th>\n",
       "      <td>455.515850</td>\n",
       "      <td>0.135447</td>\n",
       "      <td>26.507589</td>\n",
       "      <td>0.498559</td>\n",
       "      <td>0.224784</td>\n",
       "      <td>12.661633</td>\n",
       "    </tr>\n",
       "  </tbody>\n",
       "</table>\n",
       "</div>"
      ],
      "text/plain": [
       "               PassengerId  Survived        Age     SibSp     Parch  \\\n",
       "Sex    Pclass                                                         \n",
       "female 1        469.212766  0.968085  34.611765  0.553191  0.457447   \n",
       "       2        443.105263  0.921053  28.722973  0.486842  0.605263   \n",
       "       3        399.729167  0.500000  21.750000  0.895833  0.798611   \n",
       "male   1        455.729508  0.368852  41.281386  0.311475  0.278689   \n",
       "       2        447.962963  0.157407  30.740707  0.342593  0.222222   \n",
       "       3        455.515850  0.135447  26.507589  0.498559  0.224784   \n",
       "\n",
       "                     Fare  \n",
       "Sex    Pclass              \n",
       "female 1       106.125798  \n",
       "       2        21.970121  \n",
       "       3        16.118810  \n",
       "male   1        67.226127  \n",
       "       2        19.741782  \n",
       "       3        12.661633  "
      ]
     },
     "execution_count": 158,
     "metadata": {},
     "output_type": "execute_result"
    }
   ],
   "source": [
    "titanic_df.groupby(['Sex', 'Pclass']).mean()"
   ]
  },
  {
   "cell_type": "code",
   "execution_count": 159,
   "id": "267acf9c-c52e-42ae-bfbf-e282846dc0d3",
   "metadata": {},
   "outputs": [
    {
     "data": {
      "text/html": [
       "<div>\n",
       "<style scoped>\n",
       "    .dataframe tbody tr th:only-of-type {\n",
       "        vertical-align: middle;\n",
       "    }\n",
       "\n",
       "    .dataframe tbody tr th {\n",
       "        vertical-align: top;\n",
       "    }\n",
       "\n",
       "    .dataframe thead th {\n",
       "        text-align: right;\n",
       "    }\n",
       "</style>\n",
       "<table border=\"1\" class=\"dataframe\">\n",
       "  <thead>\n",
       "    <tr style=\"text-align: right;\">\n",
       "      <th></th>\n",
       "      <th></th>\n",
       "      <th>PassengerId</th>\n",
       "      <th>Survived</th>\n",
       "      <th>Age</th>\n",
       "      <th>SibSp</th>\n",
       "      <th>Parch</th>\n",
       "      <th>Fare</th>\n",
       "    </tr>\n",
       "    <tr>\n",
       "      <th>Sex</th>\n",
       "      <th>Pclass</th>\n",
       "      <th></th>\n",
       "      <th></th>\n",
       "      <th></th>\n",
       "      <th></th>\n",
       "      <th></th>\n",
       "      <th></th>\n",
       "    </tr>\n",
       "  </thead>\n",
       "  <tbody>\n",
       "    <tr>\n",
       "      <th rowspan=\"3\" valign=\"top\">female</th>\n",
       "      <th>1</th>\n",
       "      <td>525.375000</td>\n",
       "      <td>0.875000</td>\n",
       "      <td>14.125000</td>\n",
       "      <td>0.500000</td>\n",
       "      <td>0.875000</td>\n",
       "      <td>104.083337</td>\n",
       "    </tr>\n",
       "    <tr>\n",
       "      <th>2</th>\n",
       "      <td>369.250000</td>\n",
       "      <td>1.000000</td>\n",
       "      <td>8.333333</td>\n",
       "      <td>0.583333</td>\n",
       "      <td>1.083333</td>\n",
       "      <td>26.241667</td>\n",
       "    </tr>\n",
       "    <tr>\n",
       "      <th>3</th>\n",
       "      <td>374.942857</td>\n",
       "      <td>0.542857</td>\n",
       "      <td>8.428571</td>\n",
       "      <td>1.571429</td>\n",
       "      <td>1.057143</td>\n",
       "      <td>18.727977</td>\n",
       "    </tr>\n",
       "    <tr>\n",
       "      <th rowspan=\"3\" valign=\"top\">male</th>\n",
       "      <th>1</th>\n",
       "      <td>526.500000</td>\n",
       "      <td>1.000000</td>\n",
       "      <td>8.230000</td>\n",
       "      <td>0.500000</td>\n",
       "      <td>2.000000</td>\n",
       "      <td>116.072900</td>\n",
       "    </tr>\n",
       "    <tr>\n",
       "      <th>2</th>\n",
       "      <td>527.818182</td>\n",
       "      <td>0.818182</td>\n",
       "      <td>4.757273</td>\n",
       "      <td>0.727273</td>\n",
       "      <td>1.000000</td>\n",
       "      <td>25.659473</td>\n",
       "    </tr>\n",
       "    <tr>\n",
       "      <th>3</th>\n",
       "      <td>437.953488</td>\n",
       "      <td>0.232558</td>\n",
       "      <td>9.963256</td>\n",
       "      <td>2.069767</td>\n",
       "      <td>1.000000</td>\n",
       "      <td>22.752523</td>\n",
       "    </tr>\n",
       "  </tbody>\n",
       "</table>\n",
       "</div>"
      ],
      "text/plain": [
       "               PassengerId  Survived        Age     SibSp     Parch  \\\n",
       "Sex    Pclass                                                         \n",
       "female 1        525.375000  0.875000  14.125000  0.500000  0.875000   \n",
       "       2        369.250000  1.000000   8.333333  0.583333  1.083333   \n",
       "       3        374.942857  0.542857   8.428571  1.571429  1.057143   \n",
       "male   1        526.500000  1.000000   8.230000  0.500000  2.000000   \n",
       "       2        527.818182  0.818182   4.757273  0.727273  1.000000   \n",
       "       3        437.953488  0.232558   9.963256  2.069767  1.000000   \n",
       "\n",
       "                     Fare  \n",
       "Sex    Pclass              \n",
       "female 1       104.083337  \n",
       "       2        26.241667  \n",
       "       3        18.727977  \n",
       "male   1       116.072900  \n",
       "       2        25.659473  \n",
       "       3        22.752523  "
      ]
     },
     "execution_count": 159,
     "metadata": {},
     "output_type": "execute_result"
    }
   ],
   "source": [
    "titanic_df[titanic_df['Age'] < 18].groupby(['Sex', 'Pclass']).mean()"
   ]
  },
  {
   "cell_type": "code",
   "execution_count": null,
   "id": "5a04379f-3f59-40f5-94c2-e0acf125ba5b",
   "metadata": {},
   "outputs": [],
   "source": []
  }
 ],
 "metadata": {
  "kernelspec": {
   "display_name": "Python 3",
   "language": "python",
   "name": "python3"
  },
  "language_info": {
   "codemirror_mode": {
    "name": "ipython",
    "version": 3
   },
   "file_extension": ".py",
   "mimetype": "text/x-python",
   "name": "python",
   "nbconvert_exporter": "python",
   "pygments_lexer": "ipython3",
   "version": "3.7.6"
  }
 },
 "nbformat": 4,
 "nbformat_minor": 5
}
