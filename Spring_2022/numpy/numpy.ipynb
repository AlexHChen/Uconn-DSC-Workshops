{
 "cells": [
  {
   "cell_type": "markdown",
   "id": "b1d125f5-77c1-4a2b-bb68-564e7cdb9b8f",
   "metadata": {},
   "source": [
    "# What is NumPy?\n",
    "\n",
    "Straight from the NumPy Documentation home page\n",
    "\n",
    "> NumPy is the fundamental package for scientific computing in Python. It is a Python library that provides a multidimensional array object, various derived objects (such as masked arrays and matrices), and an assortment of routines for fast operations on arrays, including mathematical, logical, shape manipulation, sorting, selecting, I/O, discrete Fourier transforms, basic linear algebra, basic statistical operations, random simulation and much more.\n",
    "\n",
    "> At the core of the NumPy package, is the ndarray object. This encapsulates n-dimensional arrays of homogeneous data types, with many operations being performed in compiled code for performance. There are several important differences between NumPy arrays and the standard Python sequences:\n",
    "\n",
    "> NumPy arrays facilitate advanced mathematical and other types of operations on large numbers of data. Typically, such operations are executed more efficiently and with less code than is possible using Python’s built-in sequences.\n",
    "\n",
    "> A growing plethora of scientific and mathematical Python-based packages are using NumPy arrays; though these typically support Python-sequence input, they **convert such input to NumPy arrays** prior to processing, and they often output NumPy arrays. In other words, in order to efficiently use much (perhaps even most) of today’s scientific/mathematical Python-based software, just knowing how to use Python’s built-in sequence types is insufficient - one also needs to know how to use NumPy arrays."
   ]
  },
  {
   "cell_type": "markdown",
   "id": "2af85efe-0682-46c0-8634-3d45d75e2145",
   "metadata": {},
   "source": [
    "## Why use NumPy?\n",
    "\n",
    "1. Speed\n",
    "2. Memory\n",
    "\n",
    "In General it is a powerful way to facilitate advanced mathematical and other types of operations on large numbers of data"
   ]
  },
  {
   "cell_type": "code",
   "execution_count": 1,
   "id": "3d529d30-ba0e-458e-8b10-391bee011b37",
   "metadata": {},
   "outputs": [
    {
     "name": "stdout",
     "output_type": "stream",
     "text": [
      "Size of items in Python in-build list: 440\n",
      "Size of items in NumPy array: 36\n"
     ]
    }
   ],
   "source": [
    "# It takes much less memory to hold the same amount of data in NumPy\n",
    "\n",
    "from pympler.asizeof import asizeof\n",
    "import numpy as np\n",
    "\n",
    "sample = [1,2,3,4,5,6,7,8,10]\n",
    "print('Size of items in Python in-build list:', asizeof(sample))\n",
    "\n",
    "sample_array = np.array(sample)\n",
    "print('Size of items in NumPy array:', sample_array.nbytes)"
   ]
  },
  {
   "cell_type": "code",
   "execution_count": 2,
   "id": "8728ea47-e63f-4290-8021-3a61e66bff96",
   "metadata": {},
   "outputs": [
    {
     "name": "stdout",
     "output_type": "stream",
     "text": [
      "Result of the Naive Method of Matrix Multiplication\n",
      "[114, 160, 60, 27]\n",
      "[74, 97, 73, 14]\n",
      "[119, 157, 112, 23]\n",
      "Computation time: 0.0002486705780029297 seconds\n",
      "\n",
      "Result of the NumPy Matrix Multiplication\n",
      "[[114 160  60  27]\n",
      " [ 74  97  73  14]\n",
      " [119 157 112  23]]\n",
      "Computation time: 0.001772165298461914 seconds\n",
      "\n"
     ]
    }
   ],
   "source": [
    "# NumPy is faster than regular Python operations\n",
    "import time\n",
    "\n",
    "# Defining the matrices\n",
    "A = [\n",
    "        [12,  7,  3],\n",
    "        [ 4,  5,  6],\n",
    "        [ 7,  8,  9]\n",
    "    ]\n",
    "  \n",
    "B = [\n",
    "        [5, 8, 1, 2],\n",
    "        [6, 7, 3, 0],\n",
    "        [4, 5, 9, 1]\n",
    "    ]\n",
    "    \n",
    "# This result needs to be defined for the naive methods of matrix multiplication\n",
    "result = [\n",
    "        [0, 0, 0, 0],\n",
    "        [0, 0, 0, 0],\n",
    "        [0, 0, 0, 0]\n",
    "        ]\n",
    "\n",
    "# Naive Method of Matrix Multiplication\n",
    "start = time.time()\n",
    "\n",
    "for i in range(len(A)):\n",
    "    for j in range(len(B[0])):\n",
    "        for k in range(len(B)):\n",
    "            result[i][j] += A[i][k] * B[k][j]\n",
    "\n",
    "end = time.time()\n",
    "\n",
    "print('Result of the Naive Method of Matrix Multiplication')\n",
    "for r in result:\n",
    "    print(r)\n",
    "print(\"Computation time:\", end-start, 'seconds\\n')\n",
    "\n",
    "# Numpy Matrix Multiplication\n",
    "\n",
    "start = time.time()\n",
    "\n",
    "result = np.matmul(A,B)\n",
    "\n",
    "end = time.time()\n",
    "\n",
    "print('Result of the NumPy Matrix Multiplication')\n",
    "print(result)\n",
    "print(\"Computation time:\", end-start, 'seconds\\n')\n"
   ]
  },
  {
   "cell_type": "code",
   "execution_count": 3,
   "id": "e7ccbaa4-9b34-46a1-aae9-44bd71eb3869",
   "metadata": {},
   "outputs": [],
   "source": [
    "# A more pronounced example of showing the difference in speed\n",
    "# Ignore what I'm doing below. Just know I'm making a bigger matrix\n",
    "A = np.array(np.arange(1000)).reshape((10,10,10))\n",
    "B = np.array(np.arange(1000)).reshape((10,10,10))\n",
    "result = np.zeros((10,10,10))"
   ]
  },
  {
   "cell_type": "code",
   "execution_count": 4,
   "id": "38578bc8-90bf-475b-b2be-a27ebc94601a",
   "metadata": {},
   "outputs": [
    {
     "data": {
      "text/plain": [
       "array([[[  0,   1,   2,   3,   4,   5,   6,   7,   8,   9],\n",
       "        [ 10,  11,  12,  13,  14,  15,  16,  17,  18,  19],\n",
       "        [ 20,  21,  22,  23,  24,  25,  26,  27,  28,  29],\n",
       "        [ 30,  31,  32,  33,  34,  35,  36,  37,  38,  39],\n",
       "        [ 40,  41,  42,  43,  44,  45,  46,  47,  48,  49],\n",
       "        [ 50,  51,  52,  53,  54,  55,  56,  57,  58,  59],\n",
       "        [ 60,  61,  62,  63,  64,  65,  66,  67,  68,  69],\n",
       "        [ 70,  71,  72,  73,  74,  75,  76,  77,  78,  79],\n",
       "        [ 80,  81,  82,  83,  84,  85,  86,  87,  88,  89],\n",
       "        [ 90,  91,  92,  93,  94,  95,  96,  97,  98,  99]],\n",
       "\n",
       "       [[100, 101, 102, 103, 104, 105, 106, 107, 108, 109],\n",
       "        [110, 111, 112, 113, 114, 115, 116, 117, 118, 119],\n",
       "        [120, 121, 122, 123, 124, 125, 126, 127, 128, 129],\n",
       "        [130, 131, 132, 133, 134, 135, 136, 137, 138, 139],\n",
       "        [140, 141, 142, 143, 144, 145, 146, 147, 148, 149],\n",
       "        [150, 151, 152, 153, 154, 155, 156, 157, 158, 159],\n",
       "        [160, 161, 162, 163, 164, 165, 166, 167, 168, 169],\n",
       "        [170, 171, 172, 173, 174, 175, 176, 177, 178, 179],\n",
       "        [180, 181, 182, 183, 184, 185, 186, 187, 188, 189],\n",
       "        [190, 191, 192, 193, 194, 195, 196, 197, 198, 199]],\n",
       "\n",
       "       [[200, 201, 202, 203, 204, 205, 206, 207, 208, 209],\n",
       "        [210, 211, 212, 213, 214, 215, 216, 217, 218, 219],\n",
       "        [220, 221, 222, 223, 224, 225, 226, 227, 228, 229],\n",
       "        [230, 231, 232, 233, 234, 235, 236, 237, 238, 239],\n",
       "        [240, 241, 242, 243, 244, 245, 246, 247, 248, 249],\n",
       "        [250, 251, 252, 253, 254, 255, 256, 257, 258, 259],\n",
       "        [260, 261, 262, 263, 264, 265, 266, 267, 268, 269],\n",
       "        [270, 271, 272, 273, 274, 275, 276, 277, 278, 279],\n",
       "        [280, 281, 282, 283, 284, 285, 286, 287, 288, 289],\n",
       "        [290, 291, 292, 293, 294, 295, 296, 297, 298, 299]],\n",
       "\n",
       "       [[300, 301, 302, 303, 304, 305, 306, 307, 308, 309],\n",
       "        [310, 311, 312, 313, 314, 315, 316, 317, 318, 319],\n",
       "        [320, 321, 322, 323, 324, 325, 326, 327, 328, 329],\n",
       "        [330, 331, 332, 333, 334, 335, 336, 337, 338, 339],\n",
       "        [340, 341, 342, 343, 344, 345, 346, 347, 348, 349],\n",
       "        [350, 351, 352, 353, 354, 355, 356, 357, 358, 359],\n",
       "        [360, 361, 362, 363, 364, 365, 366, 367, 368, 369],\n",
       "        [370, 371, 372, 373, 374, 375, 376, 377, 378, 379],\n",
       "        [380, 381, 382, 383, 384, 385, 386, 387, 388, 389],\n",
       "        [390, 391, 392, 393, 394, 395, 396, 397, 398, 399]],\n",
       "\n",
       "       [[400, 401, 402, 403, 404, 405, 406, 407, 408, 409],\n",
       "        [410, 411, 412, 413, 414, 415, 416, 417, 418, 419],\n",
       "        [420, 421, 422, 423, 424, 425, 426, 427, 428, 429],\n",
       "        [430, 431, 432, 433, 434, 435, 436, 437, 438, 439],\n",
       "        [440, 441, 442, 443, 444, 445, 446, 447, 448, 449],\n",
       "        [450, 451, 452, 453, 454, 455, 456, 457, 458, 459],\n",
       "        [460, 461, 462, 463, 464, 465, 466, 467, 468, 469],\n",
       "        [470, 471, 472, 473, 474, 475, 476, 477, 478, 479],\n",
       "        [480, 481, 482, 483, 484, 485, 486, 487, 488, 489],\n",
       "        [490, 491, 492, 493, 494, 495, 496, 497, 498, 499]],\n",
       "\n",
       "       [[500, 501, 502, 503, 504, 505, 506, 507, 508, 509],\n",
       "        [510, 511, 512, 513, 514, 515, 516, 517, 518, 519],\n",
       "        [520, 521, 522, 523, 524, 525, 526, 527, 528, 529],\n",
       "        [530, 531, 532, 533, 534, 535, 536, 537, 538, 539],\n",
       "        [540, 541, 542, 543, 544, 545, 546, 547, 548, 549],\n",
       "        [550, 551, 552, 553, 554, 555, 556, 557, 558, 559],\n",
       "        [560, 561, 562, 563, 564, 565, 566, 567, 568, 569],\n",
       "        [570, 571, 572, 573, 574, 575, 576, 577, 578, 579],\n",
       "        [580, 581, 582, 583, 584, 585, 586, 587, 588, 589],\n",
       "        [590, 591, 592, 593, 594, 595, 596, 597, 598, 599]],\n",
       "\n",
       "       [[600, 601, 602, 603, 604, 605, 606, 607, 608, 609],\n",
       "        [610, 611, 612, 613, 614, 615, 616, 617, 618, 619],\n",
       "        [620, 621, 622, 623, 624, 625, 626, 627, 628, 629],\n",
       "        [630, 631, 632, 633, 634, 635, 636, 637, 638, 639],\n",
       "        [640, 641, 642, 643, 644, 645, 646, 647, 648, 649],\n",
       "        [650, 651, 652, 653, 654, 655, 656, 657, 658, 659],\n",
       "        [660, 661, 662, 663, 664, 665, 666, 667, 668, 669],\n",
       "        [670, 671, 672, 673, 674, 675, 676, 677, 678, 679],\n",
       "        [680, 681, 682, 683, 684, 685, 686, 687, 688, 689],\n",
       "        [690, 691, 692, 693, 694, 695, 696, 697, 698, 699]],\n",
       "\n",
       "       [[700, 701, 702, 703, 704, 705, 706, 707, 708, 709],\n",
       "        [710, 711, 712, 713, 714, 715, 716, 717, 718, 719],\n",
       "        [720, 721, 722, 723, 724, 725, 726, 727, 728, 729],\n",
       "        [730, 731, 732, 733, 734, 735, 736, 737, 738, 739],\n",
       "        [740, 741, 742, 743, 744, 745, 746, 747, 748, 749],\n",
       "        [750, 751, 752, 753, 754, 755, 756, 757, 758, 759],\n",
       "        [760, 761, 762, 763, 764, 765, 766, 767, 768, 769],\n",
       "        [770, 771, 772, 773, 774, 775, 776, 777, 778, 779],\n",
       "        [780, 781, 782, 783, 784, 785, 786, 787, 788, 789],\n",
       "        [790, 791, 792, 793, 794, 795, 796, 797, 798, 799]],\n",
       "\n",
       "       [[800, 801, 802, 803, 804, 805, 806, 807, 808, 809],\n",
       "        [810, 811, 812, 813, 814, 815, 816, 817, 818, 819],\n",
       "        [820, 821, 822, 823, 824, 825, 826, 827, 828, 829],\n",
       "        [830, 831, 832, 833, 834, 835, 836, 837, 838, 839],\n",
       "        [840, 841, 842, 843, 844, 845, 846, 847, 848, 849],\n",
       "        [850, 851, 852, 853, 854, 855, 856, 857, 858, 859],\n",
       "        [860, 861, 862, 863, 864, 865, 866, 867, 868, 869],\n",
       "        [870, 871, 872, 873, 874, 875, 876, 877, 878, 879],\n",
       "        [880, 881, 882, 883, 884, 885, 886, 887, 888, 889],\n",
       "        [890, 891, 892, 893, 894, 895, 896, 897, 898, 899]],\n",
       "\n",
       "       [[900, 901, 902, 903, 904, 905, 906, 907, 908, 909],\n",
       "        [910, 911, 912, 913, 914, 915, 916, 917, 918, 919],\n",
       "        [920, 921, 922, 923, 924, 925, 926, 927, 928, 929],\n",
       "        [930, 931, 932, 933, 934, 935, 936, 937, 938, 939],\n",
       "        [940, 941, 942, 943, 944, 945, 946, 947, 948, 949],\n",
       "        [950, 951, 952, 953, 954, 955, 956, 957, 958, 959],\n",
       "        [960, 961, 962, 963, 964, 965, 966, 967, 968, 969],\n",
       "        [970, 971, 972, 973, 974, 975, 976, 977, 978, 979],\n",
       "        [980, 981, 982, 983, 984, 985, 986, 987, 988, 989],\n",
       "        [990, 991, 992, 993, 994, 995, 996, 997, 998, 999]]])"
      ]
     },
     "execution_count": 4,
     "metadata": {},
     "output_type": "execute_result"
    }
   ],
   "source": [
    "A"
   ]
  },
  {
   "cell_type": "code",
   "execution_count": 5,
   "id": "4bbc29c7-f88f-4eea-a585-4034c44c7487",
   "metadata": {},
   "outputs": [
    {
     "name": "stdout",
     "output_type": "stream",
     "text": [
      "Computation time for Naive Method of Matrix Multiplication: 0.029202938079833984 seconds\n",
      "\n",
      "Computation time Numpy Matrix Multiplication: 0.00015282630920410156 seconds\n",
      "\n"
     ]
    }
   ],
   "source": [
    "# Naive Method of Matrix Multiplication\n",
    "start = time.time()\n",
    "\n",
    "for i in range(len(A)):\n",
    "    for j in range(len(B[0])):\n",
    "        for k in range(len(B)):\n",
    "            result[i][j] += A[i][k] * B[k][j]\n",
    "\n",
    "end = time.time()\n",
    "print(\"Computation time for Naive Method of Matrix Multiplication:\", end-start, 'seconds\\n')\n",
    "\n",
    "# Numpy Matrix Multiplication\n",
    "\n",
    "start = time.time()\n",
    "\n",
    "result = np.matmul(A,B)\n",
    "\n",
    "end = time.time()\n",
    "\n",
    "print(\"Computation time Numpy Matrix Multiplication:\", end-start, 'seconds\\n')\n"
   ]
  },
  {
   "cell_type": "markdown",
   "id": "46b56142-01b3-43fc-8c80-91a7d2a6624f",
   "metadata": {},
   "source": [
    "# BASICS"
   ]
  },
  {
   "cell_type": "code",
   "execution_count": 6,
   "id": "d9e18006-610b-4131-bae9-5524f3179274",
   "metadata": {},
   "outputs": [
    {
     "name": "stdout",
     "output_type": "stream",
     "text": [
      "[[1, 2, 3], [4, 5, 6], [7, 8, 9]]\n",
      "<class 'numpy.ndarray'>\n"
     ]
    },
    {
     "data": {
      "text/plain": [
       "9"
      ]
     },
     "execution_count": 6,
     "metadata": {},
     "output_type": "execute_result"
    }
   ],
   "source": [
    "# How to make an array?\n",
    "# Note, you can make arrays with strings too\n",
    "\n",
    "import numpy as np\n",
    "# pip install numpy\n",
    "\n",
    "sample_data = [\n",
    "                [1,2,3],\n",
    "                [4,5,6],\n",
    "                [7,8,9]\n",
    "                ]\n",
    "sample_array = np.array(sample_data)\n",
    "print(sample_data)\n",
    "print(type(sample_array))\n",
    "\n",
    "# Note, you don't need to convert your data into a NumPy array to use NumPy operations\n",
    "np.max(sample_data)"
   ]
  },
  {
   "cell_type": "code",
   "execution_count": 7,
   "id": "d908c6d0-9813-4b48-a32f-5f812c4e7fd1",
   "metadata": {},
   "outputs": [
    {
     "name": "stdout",
     "output_type": "stream",
     "text": [
      "2\n"
     ]
    }
   ],
   "source": [
    "# Get the dimentions of array\n",
    "print(sample_array.ndim)"
   ]
  },
  {
   "cell_type": "code",
   "execution_count": 8,
   "id": "b2f59535-2d64-458b-b702-4f11a98d7e84",
   "metadata": {},
   "outputs": [
    {
     "name": "stdout",
     "output_type": "stream",
     "text": [
      "(3, 3)\n"
     ]
    }
   ],
   "source": [
    "# Get the shape\n",
    "print(sample_array.shape)"
   ]
  },
  {
   "cell_type": "code",
   "execution_count": 9,
   "id": "76d17935-6aa6-42e5-a497-e3331f5c4df7",
   "metadata": {},
   "outputs": [
    {
     "name": "stdout",
     "output_type": "stream",
     "text": [
      "int64\n"
     ]
    }
   ],
   "source": [
    "# Get type of items in array\n",
    "print(sample_array.dtype)"
   ]
  },
  {
   "cell_type": "code",
   "execution_count": 11,
   "id": "ab7a5f57-6496-469b-808a-7c8caf25eb92",
   "metadata": {},
   "outputs": [
    {
     "name": "stdout",
     "output_type": "stream",
     "text": [
      "int16\n",
      "<U8\n"
     ]
    }
   ],
   "source": [
    "# There are other types\n",
    "print(\n",
    "    np.array(sample_data, dtype=\"int16\").dtype\n",
    ")\n",
    "\n",
    "# Array with unicode type\n",
    "print(\n",
    "    np.array(['string18', 'string2', 'string3',]).dtype\n",
    ")"
   ]
  },
  {
   "cell_type": "code",
   "execution_count": 12,
   "id": "ccba3ad3-f58d-4380-9207-27e3b4a75697",
   "metadata": {},
   "outputs": [
    {
     "name": "stdout",
     "output_type": "stream",
     "text": [
      "<class 'list'>\n"
     ]
    }
   ],
   "source": [
    "# Convert array back to list\n",
    "print(type(sample_array.tolist()))"
   ]
  },
  {
   "cell_type": "markdown",
   "id": "be15ed19-e94f-4c3c-9f38-c9e5bdfaf62e",
   "metadata": {},
   "source": [
    "### Generating your own arrays"
   ]
  },
  {
   "cell_type": "code",
   "execution_count": 14,
   "id": "9d718841-eaea-4422-9292-1022a76c79e4",
   "metadata": {},
   "outputs": [
    {
     "name": "stdout",
     "output_type": "stream",
     "text": [
      "[[0. 0. 0.]\n",
      " [0. 0. 0.]]\n"
     ]
    }
   ],
   "source": [
    "# Making a matrix of all 0s\n",
    "print(np.zeros((2, 3)))"
   ]
  },
  {
   "cell_type": "code",
   "execution_count": 18,
   "id": "3fd48a06-59c2-4755-8393-210c4a896884",
   "metadata": {},
   "outputs": [
    {
     "data": {
      "text/plain": [
       "array([[1., 1., 1.],\n",
       "       [1., 1., 1.],\n",
       "       [1., 1., 1.],\n",
       "       [1., 1., 1.]])"
      ]
     },
     "execution_count": 18,
     "metadata": {},
     "output_type": "execute_result"
    }
   ],
   "source": [
    "# Making a matrix of all 1s\n",
    "np.ones((4, 3))"
   ]
  },
  {
   "cell_type": "code",
   "execution_count": 19,
   "id": "52ef09f1-b13d-48aa-95bf-c7c5583389ab",
   "metadata": {},
   "outputs": [
    {
     "name": "stdout",
     "output_type": "stream",
     "text": [
      "[[100000 100000 100000 100000 100000]\n",
      " [100000 100000 100000 100000 100000]\n",
      " [100000 100000 100000 100000 100000]\n",
      " [100000 100000 100000 100000 100000]]\n"
     ]
    }
   ],
   "source": [
    "# Make a matrix full of one number\n",
    "print(np.full((4, 5), 100000))"
   ]
  },
  {
   "cell_type": "code",
   "execution_count": 20,
   "id": "6422225f-d44c-4bfe-9061-dd5c407829b6",
   "metadata": {},
   "outputs": [
    {
     "name": "stdout",
     "output_type": "stream",
     "text": [
      "15\n",
      "8\n",
      "15\n",
      "20\n",
      "[[ 2 20 20 17  7]\n",
      " [12  7 11 16 11]\n",
      " [17 16  5  8 19]\n",
      " [ 6 13 18  8  7]\n",
      " [ 4 14  2  0 10]]\n"
     ]
    }
   ],
   "source": [
    "# Make a random integer up to a certain value\n",
    "print(np.random.randint(21))\n",
    "print(np.random.randint(21))\n",
    "print(np.random.randint(21))\n",
    "print(np.random.randint(21))\n",
    "\n",
    "# To make a matrix of random integers add \"size\" argument\n",
    "print(np.random.randint(21, size=(5,5)))"
   ]
  },
  {
   "cell_type": "code",
   "execution_count": 21,
   "id": "600298fb-e9b8-4346-82d7-0f12ec54f23d",
   "metadata": {},
   "outputs": [
    {
     "name": "stdout",
     "output_type": "stream",
     "text": [
      "[[0.41324148 0.06479423]\n",
      " [0.01885997 0.83815077]\n",
      " [0.7332155  0.64512805]\n",
      " [0.12395694 0.16037247]\n",
      " [0.59321163 0.22388249]]\n"
     ]
    }
   ],
   "source": [
    "# Create matrix of decimal numbers\n",
    "print(np.random.rand(5, 2))"
   ]
  },
  {
   "cell_type": "markdown",
   "id": "e63d67f1-f772-482d-b249-3d9a6a9bb36e",
   "metadata": {},
   "source": [
    "### Array Indexing\n",
    "Important notion of axis"
   ]
  },
  {
   "cell_type": "code",
   "execution_count": 22,
   "id": "9d9c93ab-6339-4c6a-95c3-ae70ec845c0f",
   "metadata": {},
   "outputs": [
    {
     "name": "stdout",
     "output_type": "stream",
     "text": [
      "[[1 2 3]\n",
      " [4 5 6]\n",
      " [7 8 9]]\n"
     ]
    }
   ],
   "source": [
    "# In this sample_array, there are 2 dimentions, therefore, 2 axes: axis 0 and axis 1\n",
    "# Axis 0 is the \"rows\"\n",
    "# Axis 1 is the \"columns\"\n",
    "print(sample_array)"
   ]
  },
  {
   "cell_type": "code",
   "execution_count": 24,
   "id": "6ce43bc8-d4b9-4e20-8534-6dcb23d45b20",
   "metadata": {},
   "outputs": [
    {
     "name": "stdout",
     "output_type": "stream",
     "text": [
      "[1 2 3]\n",
      "[4 5 6]\n",
      "[7 8 9]\n"
     ]
    }
   ],
   "source": [
    "# Indexing the \"rows\" - Axis 0\n",
    "print(sample_array[0])\n",
    "print(sample_array[1])\n",
    "print(sample_array[2])"
   ]
  },
  {
   "cell_type": "code",
   "execution_count": 25,
   "id": "aad83896-4e2b-4cd0-9b43-1e6461ff4c93",
   "metadata": {},
   "outputs": [
    {
     "name": "stdout",
     "output_type": "stream",
     "text": [
      "[[1 2 3]\n",
      " [4 5 6]]\n"
     ]
    }
   ],
   "source": [
    "# Index multiple \"rows\" - multiple Axes\n",
    "print(sample_array[0:2])"
   ]
  },
  {
   "cell_type": "code",
   "execution_count": 27,
   "id": "eee592ca-a264-4eca-9e4e-102a96715756",
   "metadata": {},
   "outputs": [
    {
     "name": "stdout",
     "output_type": "stream",
     "text": [
      "[1 4 7]\n",
      "[2 5 8]\n",
      "[3 6 9]\n"
     ]
    }
   ],
   "source": [
    "# Indexing the \"columns\" - Axis 1\n",
    "# In the brackets, the values indexing is [axis 0, axis 1, ...]\n",
    "print(sample_array[:, 0])\n",
    "print(sample_array[:, 1])\n",
    "print(sample_array[:, 2])"
   ]
  },
  {
   "cell_type": "code",
   "execution_count": 28,
   "id": "e2589519-d58c-4f8a-b88b-a254bfb0ed0a",
   "metadata": {},
   "outputs": [
    {
     "name": "stdout",
     "output_type": "stream",
     "text": [
      "[[1 2 3]\n",
      " [4 5 6]\n",
      " [7 8 9]]\n",
      "9\n",
      "4\n"
     ]
    }
   ],
   "source": [
    "# Index specific values\n",
    "print(sample_array)\n",
    "# To get 9\n",
    "print(sample_array[2,2])\n",
    "# To get 4\n",
    "print(sample_array[1,0])"
   ]
  },
  {
   "cell_type": "code",
   "execution_count": 29,
   "id": "e405444b-f546-45f7-a5a7-b7581fc37cd5",
   "metadata": {},
   "outputs": [
    {
     "name": "stdout",
     "output_type": "stream",
     "text": [
      "[1 2 3]\n",
      "[1 3]\n"
     ]
    }
   ],
   "source": [
    "# Hardcore Indexing\n",
    "# [startindex: endindex: stepsize]\n",
    "print(sample_array[0, :])\n",
    "print(sample_array[0, 0:3:2])"
   ]
  },
  {
   "cell_type": "markdown",
   "id": "f2fc5698-d44c-4181-b3b3-792274c6f676",
   "metadata": {},
   "source": [
    "### Change elements in an array"
   ]
  },
  {
   "cell_type": "code",
   "execution_count": 31,
   "id": "7aba5baf-f201-4d38-861d-436d877bd931",
   "metadata": {},
   "outputs": [
    {
     "name": "stdout",
     "output_type": "stream",
     "text": [
      "[[0. 0. 0. 0. 0.]\n",
      " [0. 0. 0. 0. 0.]\n",
      " [0. 0. 0. 0. 0.]\n",
      " [0. 0. 0. 0. 0.]\n",
      " [0. 0. 0. 0. 0.]]\n",
      "\n",
      "Change this section:\n",
      " [[0. 0. 0.]\n",
      " [0. 0. 0.]\n",
      " [0. 0. 0.]] \n",
      "\n",
      "[[0. 0. 0. 0. 0.]\n",
      " [0. 1. 1. 1. 0.]\n",
      " [0. 1. 1. 1. 0.]\n",
      " [0. 1. 1. 1. 0.]\n",
      " [0. 0. 0. 0. 0.]]\n"
     ]
    }
   ],
   "source": [
    "# Change\n",
    "\n",
    "# [[0. 0. 0. 0. 0.]\n",
    "#  [0. 0. 0. 0. 0.]\n",
    "#  [0. 0. 0. 0. 0.]\n",
    "#  [0. 0. 0. 0. 0.]\n",
    "#  [0. 0. 0. 0. 0.]]\n",
    "\n",
    "# to this\n",
    "\n",
    "# [[0. 0. 0. 0. 0.]\n",
    "#  [0. 1. 1. 1. 0.]\n",
    "#  [0. 1. 1. 1. 0.]\n",
    "#  [0. 1. 1. 1. 0.]\n",
    "#  [0. 0. 0. 0. 0.]]\n",
    "\n",
    "zeros_array = np.zeros((5,5)) \n",
    "print(zeros_array)\n",
    "\n",
    "\n",
    "print(\"\\nChange this section:\\n\", zeros_array[1:4,  1:4], '\\n')\n",
    "\n",
    "zeros_array[1:4, 1:4] =  1 #np.ones((3,3)) # putting 1 instead of np.ones also works\n",
    "print(zeros_array)"
   ]
  },
  {
   "cell_type": "markdown",
   "id": "86b06151-ad97-40fc-bfc3-8f5773bfd19b",
   "metadata": {},
   "source": [
    "## Boolean Masking and Adv. Indexing"
   ]
  },
  {
   "cell_type": "code",
   "execution_count": 34,
   "id": "c3e00eec-bb31-42c8-86bb-1264be2c8c12",
   "metadata": {},
   "outputs": [
    {
     "name": "stdout",
     "output_type": "stream",
     "text": [
      "[[1 2 3]\n",
      " [4 5 6]\n",
      " [7 8 9]]\n",
      "[[False False False]\n",
      " [False False  True]\n",
      " [ True  True  True]]\n",
      "[6 7 8 9]\n"
     ]
    }
   ],
   "source": [
    "# Create Boolean Mask\n",
    "print(sample_array)\n",
    "print(\n",
    "    sample_array > 5\n",
    ")\n",
    "\n",
    "# Index with Bool. Mask\n",
    "print(sample_array[sample_array > 5])"
   ]
  },
  {
   "cell_type": "markdown",
   "id": "c0c9de7d-2af8-4b41-bb50-872057fff4c7",
   "metadata": {},
   "source": [
    "### Change Array Properties"
   ]
  },
  {
   "cell_type": "code",
   "execution_count": 35,
   "id": "b575c346-d04d-4e29-86e4-b139cc161161",
   "metadata": {},
   "outputs": [
    {
     "name": "stdout",
     "output_type": "stream",
     "text": [
      "[[5 0 7]\n",
      " [9 6 3]\n",
      " [9 4 9]] \n",
      "\n",
      "Reshaped Array:\n",
      " [5 0 7 9 6 3 9 4 9] \n",
      "\n",
      "[[5 0 7]\n",
      " [9 6 3]\n",
      " [9 4 9]] \n",
      "\n"
     ]
    }
   ],
   "source": [
    "# Reshape an array\n",
    "random_array = np.random.randint(10, size=(3,3))\n",
    "print(random_array, \"\\n\")\n",
    "\n",
    "random_array_a = random_array.reshape((9)) # .flatten()\n",
    "\n",
    "print('Reshaped Array:\\n', random_array_a , \"\\n\")\n",
    "\n",
    "# Note that the original random_array is not modified. .reshape creates a new array and returns it. This is not the case for all methods\n",
    "print(random_array, \"\\n\")\n",
    "\n"
   ]
  },
  {
   "cell_type": "code",
   "execution_count": 36,
   "id": "48528b10-7272-4e1f-bdce-10a6c2fe5bc4",
   "metadata": {},
   "outputs": [
    {
     "name": "stdout",
     "output_type": "stream",
     "text": [
      "float32\n"
     ]
    }
   ],
   "source": [
    "# Change the type of an array\n",
    "random_array.dtype = 'float32'\n",
    "print(random_array.dtype)"
   ]
  },
  {
   "cell_type": "markdown",
   "id": "8708c50e-f9c2-424b-aa22-5541b98a15ae",
   "metadata": {},
   "source": [
    "## Combining arrays together"
   ]
  },
  {
   "cell_type": "code",
   "execution_count": 37,
   "id": "ff4ca21b-6c8a-4831-9718-10623a7e5656",
   "metadata": {},
   "outputs": [
    {
     "name": "stdout",
     "output_type": "stream",
     "text": [
      "[[1.]\n",
      " [1.]\n",
      " [1.]] \n",
      "\n",
      "[[2]\n",
      " [2]\n",
      " [2]] \n",
      "\n",
      "[[1. 2.]\n",
      " [1. 2.]\n",
      " [1. 2.]] \n",
      "\n",
      "[[1.]\n",
      " [1.]\n",
      " [1.]\n",
      " [2.]\n",
      " [2.]\n",
      " [2.]]\n"
     ]
    }
   ],
   "source": [
    "ones_array = np.ones((3,1))\n",
    "twos_array = np.full((3,1), 2)\n",
    "print(ones_array, '\\n')\n",
    "print(twos_array, '\\n')\n",
    "\n",
    "# Horizontally combining arrays\n",
    "print(np.hstack((ones_array, twos_array)), '\\n')\n",
    "\n",
    "# Vertically combining arrays\n",
    "print(np.vstack((ones_array, twos_array)))"
   ]
  },
  {
   "cell_type": "markdown",
   "id": "ecbb9a9c-4017-4c93-b050-1f6d2f2c7323",
   "metadata": {},
   "source": [
    "## Math"
   ]
  },
  {
   "cell_type": "code",
   "execution_count": 39,
   "id": "4df1d8b6-5369-4331-ad19-7bcbc0bfce37",
   "metadata": {},
   "outputs": [
    {
     "name": "stdout",
     "output_type": "stream",
     "text": [
      "[2 3 4 5]\n",
      "[0 1 2 3]\n",
      "[ 3  6  9 12]\n",
      "[0.33333333 0.66666667 1.         1.33333333]\n",
      "[ 0.84147098  0.90929743  0.14112001 -0.7568025 ]\n",
      "10\n"
     ]
    }
   ],
   "source": [
    "simple_array = np.array([1, 2, 3, 4])\n",
    "\n",
    "# Simple operations changes all uniformily\n",
    "print(simple_array + 1)\n",
    "print(simple_array - 1)\n",
    "print(simple_array * 3)\n",
    "print(simple_array / 3)\n",
    "print(np.sin(simple_array))\n",
    "print(np.sum(simple_array))"
   ]
  },
  {
   "cell_type": "code",
   "execution_count": 50,
   "id": "b33bc5d5-b559-4f42-9e56-da4390edb2e6",
   "metadata": {},
   "outputs": [
    {
     "name": "stdout",
     "output_type": "stream",
     "text": [
      "[2 3 4]\n",
      "[[1 2 3]\n",
      " [4 5 6]\n",
      " [7 8 9]]\n",
      "5.0\n"
     ]
    }
   ],
   "source": [
    "print(sample_array[0] + 1)\n",
    "print(sample_array)\n",
    "print(sample_array.mean())"
   ]
  },
  {
   "cell_type": "markdown",
   "id": "bd7f5762-9a3b-4c9c-b9f9-0849aad180dc",
   "metadata": {},
   "source": [
    "### Stats"
   ]
  },
  {
   "cell_type": "code",
   "execution_count": 41,
   "id": "88abd7cf-62ff-41cc-a0b3-4bb8281c5098",
   "metadata": {},
   "outputs": [
    {
     "name": "stdout",
     "output_type": "stream",
     "text": [
      "[1 2 3 4]\n",
      "4\n",
      "1\n",
      "2.5\n",
      "1.118033988749895\n"
     ]
    }
   ],
   "source": [
    "# Min, Max, Mean, Standard Deviation \n",
    "print(simple_array)\n",
    "print(np.max(simple_array))\n",
    "print(np.min(simple_array))\n",
    "print(np.mean(simple_array))\n",
    "print(simple_array.std())"
   ]
  },
  {
   "cell_type": "markdown",
   "id": "a559c8c3-ae56-452f-886e-f98acf3fcbdc",
   "metadata": {},
   "source": [
    "## Linear Algebra"
   ]
  },
  {
   "cell_type": "code",
   "execution_count": null,
   "id": "ce8038c9-8519-441a-b5bf-c983d51164b9",
   "metadata": {},
   "outputs": [],
   "source": [
    "first_matrix = np.matrix([[3, 1, 4], [1, 5, 9], [2, 6, 5]])\n",
    "print(first_matrix)"
   ]
  },
  {
   "cell_type": "code",
   "execution_count": null,
   "id": "8268a334-7bfe-43e1-baa2-2207c1a4c808",
   "metadata": {},
   "outputs": [],
   "source": [
    "# Transverse\n",
    "print(first_matrix.T)"
   ]
  },
  {
   "cell_type": "code",
   "execution_count": null,
   "id": "9c22ae07-7182-4f06-a86c-37839df06c9c",
   "metadata": {},
   "outputs": [],
   "source": [
    "# Inverse\n",
    "print(first_matrix.I)"
   ]
  },
  {
   "cell_type": "code",
   "execution_count": null,
   "id": "026f5e55-4157-4f00-9b95-7c74b2d5df18",
   "metadata": {},
   "outputs": [],
   "source": [
    "# Multiply arrays\n",
    "\n",
    "print(first_matrix.dot(first_matrix))\n",
    "print(first_matrix @ first_matrix)"
   ]
  },
  {
   "cell_type": "markdown",
   "id": "b6c11f03",
   "metadata": {},
   "source": [
    "### Combining Multiple Operations"
   ]
  },
  {
   "cell_type": "code",
   "execution_count": 20,
   "id": "81d8bb78",
   "metadata": {},
   "outputs": [
    {
     "data": {
      "image/png": "[encoded data removed]",
      "text/plain": [
       "<Figure size 864x864 with 1 Axes>"
      ]
     },
     "metadata": {
      "needs_background": "light"
     },
     "output_type": "display_data"
    },
    {
     "data": {
      "image/png": "[encoded data removed]",
      "text/plain": [
       "<Figure size 864x864 with 1 Axes>"
      ]
     },
     "metadata": {
      "needs_background": "light"
     },
     "output_type": "display_data"
    }
   ],
   "source": [
    "# Generating random data\n",
    "import matplotlib.pyplot as plt # This is for graphing. Will cover this next week\n",
    "\n",
    "size = 100\n",
    "\n",
    "x = np.arange(size)\n",
    "intermediate_y = 9*(x-50)**2 + 3\n",
    "\n",
    "noise = np.random.normal(-1000,1000, size=size)\n",
    "y = intermediate_y + noise\n",
    "\n",
    "plt.figure(figsize=(12,12))\n",
    "plt.plot(intermediate_y, 'o')\n",
    "plt.show()\n",
    "\n",
    "plt.figure(figsize=(12,12))\n",
    "plt.plot(y, 'o')\n",
    "plt.show()"
   ]
  },
  {
   "cell_type": "code",
   "execution_count": null,
   "id": "188db53f",
   "metadata": {},
   "outputs": [],
   "source": []
  }
 ],
 "metadata": {
  "kernelspec": {
   "display_name": "Python 3",
   "language": "python",
   "name": "python3"
  },
  "language_info": {
   "codemirror_mode": {
    "name": "ipython",
    "version": 3
   },
   "file_extension": ".py",
   "mimetype": "text/x-python",
   "name": "python",
   "nbconvert_exporter": "python",
   "pygments_lexer": "ipython3",
   "version": "3.9.4"
  }
 },
 "nbformat": 4,
 "nbformat_minor": 5
}
